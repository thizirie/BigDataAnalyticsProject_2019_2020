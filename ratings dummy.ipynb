{
 "cells": [
  {
   "cell_type": "code",
   "execution_count": 1,
   "metadata": {},
   "outputs": [],
   "source": [
    "%matplotlib inline\n",
    "import numpy as np\n",
    "import pandas as pd \n",
    "import scipy as sp\n",
    "import sklearn as sk # data mining tools\n",
    "import matplotlib.pylab as plt # plotting\n",
    "import seaborn as sns # advanced plotting\n",
    "import ast\n",
    "import collections\n",
    "import re \n",
    "import six\n",
    "from sklearn.preprocessing import MinMaxScaler\n",
    "pd.options.display.max_colwidth = 100\n",
    "pd.options.mode.chained_assignment = None"
   ]
  },
  {
   "cell_type": "code",
   "execution_count": 2,
   "metadata": {},
   "outputs": [],
   "source": [
    "df = pd.read_csv('main_dataset_occupations.csv')"
   ]
  },
  {
   "cell_type": "markdown",
   "metadata": {},
   "source": [
    "Converting the ratings column into dictionary."
   ]
  },
  {
   "cell_type": "code",
   "execution_count": 3,
   "metadata": {},
   "outputs": [],
   "source": [
    "df['ratings'] = df['ratings'].apply(lambda x: ast.literal_eval(x))"
   ]
  },
  {
   "cell_type": "code",
   "execution_count": 5,
   "metadata": {},
   "outputs": [
    {
     "data": {
      "text/plain": [
       "[{'id': 7, 'name': 'Funny', 'count': 19645},\n",
       " {'id': 1, 'name': 'Beautiful', 'count': 4573},\n",
       " {'id': 9, 'name': 'Ingenious', 'count': 6073},\n",
       " {'id': 3, 'name': 'Courageous', 'count': 3253},\n",
       " {'id': 11, 'name': 'Longwinded', 'count': 387},\n",
       " {'id': 2, 'name': 'Confusing', 'count': 242},\n",
       " {'id': 8, 'name': 'Informative', 'count': 7346},\n",
       " {'id': 22, 'name': 'Fascinating', 'count': 10581},\n",
       " {'id': 21, 'name': 'Unconvincing', 'count': 300},\n",
       " {'id': 24, 'name': 'Persuasive', 'count': 10704},\n",
       " {'id': 23, 'name': 'Jaw-dropping', 'count': 4439},\n",
       " {'id': 25, 'name': 'OK', 'count': 1174},\n",
       " {'id': 26, 'name': 'Obnoxious', 'count': 209},\n",
       " {'id': 10, 'name': 'Inspiring', 'count': 24924}]"
      ]
     },
     "execution_count": 5,
     "metadata": {},
     "output_type": "execute_result"
    }
   ],
   "source": [
    "df['ratings'][0]"
   ]
  },
  {
   "cell_type": "markdown",
   "metadata": {},
   "source": [
    "Creating three new columns for each type of ratings."
   ]
  },
  {
   "cell_type": "code",
   "execution_count": 8,
   "metadata": {},
   "outputs": [],
   "source": [
    "df['positive_ratings'] = 0\n",
    "df['negative_ratings'] = 0\n",
    "df['neutral_ratings'] = 0"
   ]
  },
  {
   "cell_type": "markdown",
   "metadata": {},
   "source": [
    "Setting each rating as positive, negative, or neutral."
   ]
  },
  {
   "cell_type": "code",
   "execution_count": 13,
   "metadata": {},
   "outputs": [],
   "source": [
    "ratings = {\"positive_ratings\":[\"Fascinating\", \"Informative\", \"Persuasive\", \"Inspiring\", \"Courageous\", \"Funny\", \"Ingenious\", \"Jaw-dropping\", \"Beautiful\"],\n",
    "           \"negative_ratings\":[\"Longwinded\", \"Unconvincing\", \"Obnoxious\", \"Confusing\"],\n",
    "           \"neutral_ratings\":[\"OK\"]}"
   ]
  },
  {
   "cell_type": "markdown",
   "metadata": {},
   "source": [
    "Function to get the average rating of a specific category for a given list."
   ]
  },
  {
   "cell_type": "code",
   "execution_count": 27,
   "metadata": {},
   "outputs": [],
   "source": [
    "def get_ratings(myList, category):\n",
    "    total = 0\n",
    "    count = 0\n",
    "    for myDict in myList:\n",
    "        if(get_category(myDict['name']) == category):\n",
    "            total = total + myDict['count']\n",
    "            count += 1\n",
    "    return float(total)/count"
   ]
  },
  {
   "cell_type": "markdown",
   "metadata": {},
   "source": [
    "Function to get corresponding category of a given name."
   ]
  },
  {
   "cell_type": "code",
   "execution_count": 19,
   "metadata": {},
   "outputs": [],
   "source": [
    "def get_category(name):\n",
    "    for key in ratings.keys():\n",
    "        for name_ in ratings[key]:\n",
    "            if(name_ == name):\n",
    "                return key\n",
    "    return \"neutral_ratings\""
   ]
  },
  {
   "cell_type": "markdown",
   "metadata": {},
   "source": [
    "Filling our new columns via created functions and list of ratings of each talk."
   ]
  },
  {
   "cell_type": "code",
   "execution_count": 35,
   "metadata": {},
   "outputs": [],
   "source": [
    "df['positive_ratings'] = df['ratings'].apply(lambda x: get_ratings(x, \"positive_ratings\"))"
   ]
  },
  {
   "cell_type": "code",
   "execution_count": 37,
   "metadata": {},
   "outputs": [],
   "source": [
    "df['negative_ratings'] = df['ratings'].apply(lambda x: get_ratings(x, \"negative_ratings\"))"
   ]
  },
  {
   "cell_type": "code",
   "execution_count": 38,
   "metadata": {},
   "outputs": [],
   "source": [
    "df['neutral_ratings'] = df['ratings'].apply(lambda x: get_ratings(x, \"neutral_ratings\"))"
   ]
  },
  {
   "cell_type": "code",
   "execution_count": 45,
   "metadata": {},
   "outputs": [],
   "source": [
    "df.to_csv(\"ted_main_ratings.csv\")"
   ]
  }
 ],
 "metadata": {
  "kernelspec": {
   "display_name": "Python 3",
   "language": "python",
   "name": "python3"
  },
  "language_info": {
   "codemirror_mode": {
    "name": "ipython",
    "version": 3
   },
   "file_extension": ".py",
   "mimetype": "text/x-python",
   "name": "python",
   "nbconvert_exporter": "python",
   "pygments_lexer": "ipython3",
   "version": "3.7.3"
  }
 },
 "nbformat": 4,
 "nbformat_minor": 2
}
