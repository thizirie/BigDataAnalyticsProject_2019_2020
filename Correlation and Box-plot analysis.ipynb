{
 "cells": [
  {
   "cell_type": "code",
   "execution_count": 1,
   "metadata": {},
   "outputs": [],
   "source": [
    "import pandas as pd\n",
    "import re \n",
    "import json\n",
    "import ast\n"
   ]
  },
  {
   "cell_type": "code",
   "execution_count": 2,
   "metadata": {},
   "outputs": [],
   "source": [
    "# load ted.csv into a Datafarme\n",
    "df_ted = pd.read_csv('ted_main.csv')\n",
    "#df_ted.head(5)\n"
   ]
  },
  {
   "cell_type": "code",
   "execution_count": 3,
   "metadata": {},
   "outputs": [],
   "source": [
    "#\n",
    "df_ted['ratings'] = df_ted['ratings'].apply(lambda x: ast.literal_eval(x))"
   ]
  },
  {
   "cell_type": "code",
   "execution_count": 4,
   "metadata": {},
   "outputs": [],
   "source": [
    "# iterate in rows and sum funny rating \n",
    "# append to each rows in col 'funny_count'\n",
    "df_ted['funny_count'] = 0\n",
    "\n",
    "for i in range(0,2550):\n",
    "    funny_rating = 0\n",
    "    for j in range(0,14):\n",
    "        funny_id = df_ted['ratings'][i][j].get('id')\n",
    "        if funny_id == 7:\n",
    "            funny_rating = funny_rating + df_ted['ratings'][i][j].get('count')      \n",
    "    df_ted.loc[(i, 'funny_count')] = funny_rating"
   ]
  },
  {
   "cell_type": "markdown",
   "metadata": {},
   "source": [
    "### Funny  Factor\n",
    "#### Funny_fact = count(funny) + count(laghter)/2"
   ]
  },
  {
   "cell_type": "code",
   "execution_count": 5,
   "metadata": {},
   "outputs": [],
   "source": [
    "# load transcripts file into a dataframe\n",
    "df_trans = pd.read_csv('D:/Data ScienceBI/Year-II/sem-I/Big Data Analysis/Project/ted-talks/transcripts.csv')"
   ]
  },
  {
   "cell_type": "code",
   "execution_count": 6,
   "metadata": {},
   "outputs": [],
   "source": [
    "# create  a new column 'loughter' with value equals zero and append to trans datfarame\n",
    "df_trans['loughter'] = 0"
   ]
  },
  {
   "cell_type": "code",
   "execution_count": 7,
   "metadata": {},
   "outputs": [
    {
     "data": {
      "text/html": [
       "<div>\n",
       "<style scoped>\n",
       "    .dataframe tbody tr th:only-of-type {\n",
       "        vertical-align: middle;\n",
       "    }\n",
       "\n",
       "    .dataframe tbody tr th {\n",
       "        vertical-align: top;\n",
       "    }\n",
       "\n",
       "    .dataframe thead th {\n",
       "        text-align: right;\n",
       "    }\n",
       "</style>\n",
       "<table border=\"1\" class=\"dataframe\">\n",
       "  <thead>\n",
       "    <tr style=\"text-align: right;\">\n",
       "      <th></th>\n",
       "      <th>transcript</th>\n",
       "      <th>url</th>\n",
       "      <th>loughter</th>\n",
       "    </tr>\n",
       "  </thead>\n",
       "  <tbody>\n",
       "    <tr>\n",
       "      <th>1114</th>\n",
       "      <td>I have a question for you: Are you religious? ...</td>\n",
       "      <td>https://www.ted.com/talks/jonathan_haidt_human...</td>\n",
       "      <td>0</td>\n",
       "    </tr>\n",
       "    <tr>\n",
       "      <th>1115</th>\n",
       "      <td>The recent debate over copyright laws like SOP...</td>\n",
       "      <td>https://www.ted.com/talks/rob_reid_the_8_billi...</td>\n",
       "      <td>0</td>\n",
       "    </tr>\n",
       "    <tr>\n",
       "      <th>1116</th>\n",
       "      <td>I'm going to tell you a little bit about my TE...</td>\n",
       "      <td>https://www.ted.com/talks/brene_brown_listenin...</td>\n",
       "      <td>0</td>\n",
       "    </tr>\n",
       "  </tbody>\n",
       "</table>\n",
       "</div>"
      ],
      "text/plain": [
       "                                             transcript  \\\n",
       "1114  I have a question for you: Are you religious? ...   \n",
       "1115  The recent debate over copyright laws like SOP...   \n",
       "1116  I'm going to tell you a little bit about my TE...   \n",
       "\n",
       "                                                    url  loughter  \n",
       "1114  https://www.ted.com/talks/jonathan_haidt_human...         0  \n",
       "1115  https://www.ted.com/talks/rob_reid_the_8_billi...         0  \n",
       "1116  https://www.ted.com/talks/brene_brown_listenin...         0  "
      ]
     },
     "execution_count": 7,
     "metadata": {},
     "output_type": "execute_result"
    }
   ],
   "source": [
    "# Find duplicated rows \n",
    "# 3 rows \n",
    "duplicate_rows = df_trans[df_trans.duplicated()]\n",
    "duplicate_rows"
   ]
  },
  {
   "cell_type": "code",
   "execution_count": 8,
   "metadata": {},
   "outputs": [],
   "source": [
    "# Drop duplicates \n",
    "df_trans.drop_duplicates(keep = False,inplace = True)\n",
    "#df_trans"
   ]
  },
  {
   "cell_type": "code",
   "execution_count": 9,
   "metadata": {},
   "outputs": [
    {
     "data": {
      "text/html": [
       "<div>\n",
       "<style scoped>\n",
       "    .dataframe tbody tr th:only-of-type {\n",
       "        vertical-align: middle;\n",
       "    }\n",
       "\n",
       "    .dataframe tbody tr th {\n",
       "        vertical-align: top;\n",
       "    }\n",
       "\n",
       "    .dataframe thead th {\n",
       "        text-align: right;\n",
       "    }\n",
       "</style>\n",
       "<table border=\"1\" class=\"dataframe\">\n",
       "  <thead>\n",
       "    <tr style=\"text-align: right;\">\n",
       "      <th></th>\n",
       "      <th>transcript</th>\n",
       "      <th>url</th>\n",
       "      <th>loughter</th>\n",
       "    </tr>\n",
       "  </thead>\n",
       "  <tbody>\n",
       "  </tbody>\n",
       "</table>\n",
       "</div>"
      ],
      "text/plain": [
       "Empty DataFrame\n",
       "Columns: [transcript, url, loughter]\n",
       "Index: []"
      ]
     },
     "execution_count": 9,
     "metadata": {},
     "output_type": "execute_result"
    }
   ],
   "source": [
    "# Check if the duplicates are removed \n",
    "drows = df_trans[df_trans.duplicated()]\n",
    "drows"
   ]
  },
  {
   "cell_type": "code",
   "execution_count": 10,
   "metadata": {},
   "outputs": [],
   "source": [
    "# re_assign index after droping dupliacte rows \n",
    "df_trans.index = range(0,len(df_trans))\n",
    "#df_trans.head()"
   ]
  },
  {
   "cell_type": "code",
   "execution_count": 11,
   "metadata": {},
   "outputs": [],
   "source": [
    "#iterate in each row and sum frequency of the word 'Laughter'\n",
    "#append the value to 'loughter' col\n",
    "import re \n",
    "word = 'Laughter'\n",
    "for i in range(0,2461):\n",
    "    count = 0\n",
    "    input_tedtalk = df_trans['transcript'][i] \n",
    "    count = count + sum(1 for _ in re.finditer(r'\\b%s\\b' % re.escape(word), input_tedtalk))\n",
    "    df_trans.loc[(i,'loughter')] = count"
   ]
  },
  {
   "cell_type": "code",
   "execution_count": 12,
   "metadata": {},
   "outputs": [
    {
     "data": {
      "text/html": [
       "<div>\n",
       "<style scoped>\n",
       "    .dataframe tbody tr th:only-of-type {\n",
       "        vertical-align: middle;\n",
       "    }\n",
       "\n",
       "    .dataframe tbody tr th {\n",
       "        vertical-align: top;\n",
       "    }\n",
       "\n",
       "    .dataframe thead th {\n",
       "        text-align: right;\n",
       "    }\n",
       "</style>\n",
       "<table border=\"1\" class=\"dataframe\">\n",
       "  <thead>\n",
       "    <tr style=\"text-align: right;\">\n",
       "      <th></th>\n",
       "      <th>transcript</th>\n",
       "      <th>url</th>\n",
       "      <th>loughter</th>\n",
       "    </tr>\n",
       "  </thead>\n",
       "  <tbody>\n",
       "    <tr>\n",
       "      <th>0</th>\n",
       "      <td>Good morning. How are you?(Laughter)It's been ...</td>\n",
       "      <td>https://www.ted.com/talks/ken_robinson_says_sc...</td>\n",
       "      <td>39</td>\n",
       "    </tr>\n",
       "    <tr>\n",
       "      <th>1</th>\n",
       "      <td>Thank you so much, Chris. And it's truly a gre...</td>\n",
       "      <td>https://www.ted.com/talks/al_gore_on_averting_...</td>\n",
       "      <td>22</td>\n",
       "    </tr>\n",
       "    <tr>\n",
       "      <th>2</th>\n",
       "      <td>(Music: \"The Sound of Silence,\" Simon &amp; Garfun...</td>\n",
       "      <td>https://www.ted.com/talks/david_pogue_says_sim...</td>\n",
       "      <td>38</td>\n",
       "    </tr>\n",
       "    <tr>\n",
       "      <th>3</th>\n",
       "      <td>If you're here today — and I'm very happy that...</td>\n",
       "      <td>https://www.ted.com/talks/majora_carter_s_tale...</td>\n",
       "      <td>10</td>\n",
       "    </tr>\n",
       "    <tr>\n",
       "      <th>4</th>\n",
       "      <td>About 10 years ago, I took on the task to teac...</td>\n",
       "      <td>https://www.ted.com/talks/hans_rosling_shows_t...</td>\n",
       "      <td>10</td>\n",
       "    </tr>\n",
       "  </tbody>\n",
       "</table>\n",
       "</div>"
      ],
      "text/plain": [
       "                                          transcript  \\\n",
       "0  Good morning. How are you?(Laughter)It's been ...   \n",
       "1  Thank you so much, Chris. And it's truly a gre...   \n",
       "2  (Music: \"The Sound of Silence,\" Simon & Garfun...   \n",
       "3  If you're here today — and I'm very happy that...   \n",
       "4  About 10 years ago, I took on the task to teac...   \n",
       "\n",
       "                                                 url  loughter  \n",
       "0  https://www.ted.com/talks/ken_robinson_says_sc...        39  \n",
       "1  https://www.ted.com/talks/al_gore_on_averting_...        22  \n",
       "2  https://www.ted.com/talks/david_pogue_says_sim...        38  \n",
       "3  https://www.ted.com/talks/majora_carter_s_tale...        10  \n",
       "4  https://www.ted.com/talks/hans_rosling_shows_t...        10  "
      ]
     },
     "execution_count": 12,
     "metadata": {},
     "output_type": "execute_result"
    }
   ],
   "source": [
    "df_trans.head(5)"
   ]
  },
  {
   "cell_type": "markdown",
   "metadata": {},
   "source": [
    "## Popularity Factor\n",
    "### PF = (commnets + views + rating )/ 3"
   ]
  },
  {
   "cell_type": "code",
   "execution_count": 13,
   "metadata": {},
   "outputs": [],
   "source": [
    "df_ted['ratings_count'] = 0\n",
    "\n",
    "for i in range(2550):\n",
    "    cnt = 0\n",
    "    for rev in range(0, 14):\n",
    "        cnt = cnt + df_ted['ratings'][i][rev].get('count')\n",
    "    df_ted.loc[(i, 'ratings_count')] = cnt"
   ]
  },
  {
   "cell_type": "markdown",
   "metadata": {},
   "source": [
    "#### Min-Max Scaling"
   ]
  },
  {
   "cell_type": "code",
   "execution_count": 14,
   "metadata": {},
   "outputs": [],
   "source": [
    "# scale 'ratings', 'views' and 'comments '\n",
    "df_ted['ratings_nbr_sc'] = ( df_ted['ratings_count'] - df_ted['ratings_count'].min() ) / ( df_ted['ratings_count'].max() - df_ted['ratings_count'].min() )\n",
    "df_ted['comm_sc'] = ( df_ted['comments'] - df_ted['comments'].min() ) / ( df_ted['comments'].max() - df_ted['comments'].min() )\n",
    "df_ted['views_sc'] = ( df_ted['views'] - df_ted['views'].min() ) / ( df_ted['views'].max() - df_ted['views'].min() )"
   ]
  },
  {
   "cell_type": "code",
   "execution_count": 15,
   "metadata": {},
   "outputs": [],
   "source": [
    "# compute popularity factor \n",
    "df_ted['popularity'] = ( df_ted['views_sc'] + df_ted['comm_sc'] + df_ted['ratings_nbr_sc']) / 3"
   ]
  },
  {
   "cell_type": "code",
   "execution_count": 16,
   "metadata": {},
   "outputs": [
    {
     "data": {
      "text/html": [
       "<div>\n",
       "<style scoped>\n",
       "    .dataframe tbody tr th:only-of-type {\n",
       "        vertical-align: middle;\n",
       "    }\n",
       "\n",
       "    .dataframe tbody tr th {\n",
       "        vertical-align: top;\n",
       "    }\n",
       "\n",
       "    .dataframe thead th {\n",
       "        text-align: right;\n",
       "    }\n",
       "</style>\n",
       "<table border=\"1\" class=\"dataframe\">\n",
       "  <thead>\n",
       "    <tr style=\"text-align: right;\">\n",
       "      <th></th>\n",
       "      <th>comments</th>\n",
       "      <th>description</th>\n",
       "      <th>duration</th>\n",
       "      <th>event</th>\n",
       "      <th>film_date</th>\n",
       "      <th>languages</th>\n",
       "      <th>main_speaker</th>\n",
       "      <th>name</th>\n",
       "      <th>num_speaker</th>\n",
       "      <th>published_date</th>\n",
       "      <th>...</th>\n",
       "      <th>tags</th>\n",
       "      <th>title</th>\n",
       "      <th>url</th>\n",
       "      <th>views</th>\n",
       "      <th>funny_count</th>\n",
       "      <th>ratings_count</th>\n",
       "      <th>ratings_nbr_sc</th>\n",
       "      <th>comm_sc</th>\n",
       "      <th>views_sc</th>\n",
       "      <th>popularity</th>\n",
       "    </tr>\n",
       "  </thead>\n",
       "  <tbody>\n",
       "    <tr>\n",
       "      <th>0</th>\n",
       "      <td>4553</td>\n",
       "      <td>Sir Ken Robinson makes an entertaining and pro...</td>\n",
       "      <td>1164</td>\n",
       "      <td>TED2006</td>\n",
       "      <td>1140825600</td>\n",
       "      <td>60</td>\n",
       "      <td>Ken Robinson</td>\n",
       "      <td>Ken Robinson: Do schools kill creativity?</td>\n",
       "      <td>1</td>\n",
       "      <td>1151367060</td>\n",
       "      <td>...</td>\n",
       "      <td>['children', 'creativity', 'culture', 'dance',...</td>\n",
       "      <td>Do schools kill creativity?</td>\n",
       "      <td>https://www.ted.com/talks/ken_robinson_says_sc...</td>\n",
       "      <td>47227110</td>\n",
       "      <td>19645</td>\n",
       "      <td>93850</td>\n",
       "      <td>1.000000</td>\n",
       "      <td>0.710872</td>\n",
       "      <td>1.000000</td>\n",
       "      <td>0.903624</td>\n",
       "    </tr>\n",
       "    <tr>\n",
       "      <th>1</th>\n",
       "      <td>265</td>\n",
       "      <td>With the same humor and humanity he exuded in ...</td>\n",
       "      <td>977</td>\n",
       "      <td>TED2006</td>\n",
       "      <td>1140825600</td>\n",
       "      <td>43</td>\n",
       "      <td>Al Gore</td>\n",
       "      <td>Al Gore: Averting the climate crisis</td>\n",
       "      <td>1</td>\n",
       "      <td>1151367060</td>\n",
       "      <td>...</td>\n",
       "      <td>['alternative energy', 'cars', 'climate change...</td>\n",
       "      <td>Averting the climate crisis</td>\n",
       "      <td>https://www.ted.com/talks/al_gore_on_averting_...</td>\n",
       "      <td>3200520</td>\n",
       "      <td>544</td>\n",
       "      <td>2936</td>\n",
       "      <td>0.030582</td>\n",
       "      <td>0.041081</td>\n",
       "      <td>0.066772</td>\n",
       "      <td>0.046145</td>\n",
       "    </tr>\n",
       "    <tr>\n",
       "      <th>2</th>\n",
       "      <td>124</td>\n",
       "      <td>New York Times columnist David Pogue takes aim...</td>\n",
       "      <td>1286</td>\n",
       "      <td>TED2006</td>\n",
       "      <td>1140739200</td>\n",
       "      <td>26</td>\n",
       "      <td>David Pogue</td>\n",
       "      <td>David Pogue: Simplicity sells</td>\n",
       "      <td>1</td>\n",
       "      <td>1151367060</td>\n",
       "      <td>...</td>\n",
       "      <td>['computers', 'entertainment', 'interface desi...</td>\n",
       "      <td>Simplicity sells</td>\n",
       "      <td>https://www.ted.com/talks/david_pogue_says_sim...</td>\n",
       "      <td>1636292</td>\n",
       "      <td>964</td>\n",
       "      <td>2824</td>\n",
       "      <td>0.029387</td>\n",
       "      <td>0.019057</td>\n",
       "      <td>0.033615</td>\n",
       "      <td>0.027353</td>\n",
       "    </tr>\n",
       "    <tr>\n",
       "      <th>3</th>\n",
       "      <td>200</td>\n",
       "      <td>In an emotionally charged talk, MacArthur-winn...</td>\n",
       "      <td>1116</td>\n",
       "      <td>TED2006</td>\n",
       "      <td>1140912000</td>\n",
       "      <td>35</td>\n",
       "      <td>Majora Carter</td>\n",
       "      <td>Majora Carter: Greening the ghetto</td>\n",
       "      <td>1</td>\n",
       "      <td>1151367060</td>\n",
       "      <td>...</td>\n",
       "      <td>['MacArthur grant', 'activism', 'business', 'c...</td>\n",
       "      <td>Greening the ghetto</td>\n",
       "      <td>https://www.ted.com/talks/majora_carter_s_tale...</td>\n",
       "      <td>1697550</td>\n",
       "      <td>59</td>\n",
       "      <td>3728</td>\n",
       "      <td>0.039027</td>\n",
       "      <td>0.030928</td>\n",
       "      <td>0.034914</td>\n",
       "      <td>0.034956</td>\n",
       "    </tr>\n",
       "    <tr>\n",
       "      <th>4</th>\n",
       "      <td>593</td>\n",
       "      <td>You've never seen data presented like this. Wi...</td>\n",
       "      <td>1190</td>\n",
       "      <td>TED2006</td>\n",
       "      <td>1140566400</td>\n",
       "      <td>48</td>\n",
       "      <td>Hans Rosling</td>\n",
       "      <td>Hans Rosling: The best stats you've ever seen</td>\n",
       "      <td>1</td>\n",
       "      <td>1151440680</td>\n",
       "      <td>...</td>\n",
       "      <td>['Africa', 'Asia', 'Google', 'demo', 'economic...</td>\n",
       "      <td>The best stats you've ever seen</td>\n",
       "      <td>https://www.ted.com/talks/hans_rosling_shows_t...</td>\n",
       "      <td>12005869</td>\n",
       "      <td>1390</td>\n",
       "      <td>25620</td>\n",
       "      <td>0.272462</td>\n",
       "      <td>0.092315</td>\n",
       "      <td>0.253418</td>\n",
       "      <td>0.206065</td>\n",
       "    </tr>\n",
       "  </tbody>\n",
       "</table>\n",
       "<p>5 rows × 23 columns</p>\n",
       "</div>"
      ],
      "text/plain": [
       "   comments                                        description  duration  \\\n",
       "0      4553  Sir Ken Robinson makes an entertaining and pro...      1164   \n",
       "1       265  With the same humor and humanity he exuded in ...       977   \n",
       "2       124  New York Times columnist David Pogue takes aim...      1286   \n",
       "3       200  In an emotionally charged talk, MacArthur-winn...      1116   \n",
       "4       593  You've never seen data presented like this. Wi...      1190   \n",
       "\n",
       "     event   film_date  languages   main_speaker  \\\n",
       "0  TED2006  1140825600         60   Ken Robinson   \n",
       "1  TED2006  1140825600         43        Al Gore   \n",
       "2  TED2006  1140739200         26    David Pogue   \n",
       "3  TED2006  1140912000         35  Majora Carter   \n",
       "4  TED2006  1140566400         48   Hans Rosling   \n",
       "\n",
       "                                            name  num_speaker  published_date  \\\n",
       "0      Ken Robinson: Do schools kill creativity?            1      1151367060   \n",
       "1           Al Gore: Averting the climate crisis            1      1151367060   \n",
       "2                  David Pogue: Simplicity sells            1      1151367060   \n",
       "3             Majora Carter: Greening the ghetto            1      1151367060   \n",
       "4  Hans Rosling: The best stats you've ever seen            1      1151440680   \n",
       "\n",
       "      ...                                                   tags  \\\n",
       "0     ...      ['children', 'creativity', 'culture', 'dance',...   \n",
       "1     ...      ['alternative energy', 'cars', 'climate change...   \n",
       "2     ...      ['computers', 'entertainment', 'interface desi...   \n",
       "3     ...      ['MacArthur grant', 'activism', 'business', 'c...   \n",
       "4     ...      ['Africa', 'Asia', 'Google', 'demo', 'economic...   \n",
       "\n",
       "                             title  \\\n",
       "0      Do schools kill creativity?   \n",
       "1      Averting the climate crisis   \n",
       "2                 Simplicity sells   \n",
       "3              Greening the ghetto   \n",
       "4  The best stats you've ever seen   \n",
       "\n",
       "                                                 url     views funny_count  \\\n",
       "0  https://www.ted.com/talks/ken_robinson_says_sc...  47227110       19645   \n",
       "1  https://www.ted.com/talks/al_gore_on_averting_...   3200520         544   \n",
       "2  https://www.ted.com/talks/david_pogue_says_sim...   1636292         964   \n",
       "3  https://www.ted.com/talks/majora_carter_s_tale...   1697550          59   \n",
       "4  https://www.ted.com/talks/hans_rosling_shows_t...  12005869        1390   \n",
       "\n",
       "  ratings_count  ratings_nbr_sc   comm_sc  views_sc  popularity  \n",
       "0         93850        1.000000  0.710872  1.000000    0.903624  \n",
       "1          2936        0.030582  0.041081  0.066772    0.046145  \n",
       "2          2824        0.029387  0.019057  0.033615    0.027353  \n",
       "3          3728        0.039027  0.030928  0.034914    0.034956  \n",
       "4         25620        0.272462  0.092315  0.253418    0.206065  \n",
       "\n",
       "[5 rows x 23 columns]"
      ]
     },
     "execution_count": 16,
     "metadata": {},
     "output_type": "execute_result"
    }
   ],
   "source": [
    "df_ted.head(5)"
   ]
  },
  {
   "cell_type": "markdown",
   "metadata": {},
   "source": [
    "## Min-Max Scaling\n",
    "### x to y= (x-min)/(max-min)"
   ]
  },
  {
   "cell_type": "code",
   "execution_count": 17,
   "metadata": {},
   "outputs": [
    {
     "data": {
      "text/plain": [
       "0    0.527027\n",
       "1    0.297297\n",
       "2    0.513514\n",
       "3    0.135135\n",
       "4    0.135135\n",
       "Name: Scaled_lough, dtype: float64"
      ]
     },
     "execution_count": 17,
     "metadata": {},
     "output_type": "execute_result"
    }
   ],
   "source": [
    "#  frequency of funny \n",
    "mini = df_ted['funny_count'].min()\n",
    "maxi = df_ted['funny_count'].max()\n",
    "df_ted['Scaled_fcount']  = ((df_ted['funny_count'] - mini) / (maxi - mini))\n",
    "# frequency of loughter \n",
    "min_lough = df_trans['loughter'].min()\n",
    "max_lough = df_trans['loughter'].max()\n",
    "df_trans['Scaled_lough']  = (df_trans['loughter'] - min_lough) / (max_lough - min_lough)\n",
    "df_trans['Scaled_lough'].head(5)\n"
   ]
  },
  {
   "cell_type": "code",
   "execution_count": 18,
   "metadata": {},
   "outputs": [
    {
     "data": {
      "text/plain": [
       "0    1.000000\n",
       "1    0.027692\n",
       "2    0.049071\n",
       "3    0.003003\n",
       "4    0.070756\n",
       "Name: Scaled_fcount, dtype: float64"
      ]
     },
     "execution_count": 18,
     "metadata": {},
     "output_type": "execute_result"
    }
   ],
   "source": [
    "df_ted['Scaled_fcount'].head(5)"
   ]
  },
  {
   "cell_type": "code",
   "execution_count": 19,
   "metadata": {},
   "outputs": [],
   "source": [
    "# Merge the two datafarmes on column = url (inner join) and return a DataFrame 'lough_funny'\n",
    "lough_funny = pd.merge(df_ted,df_trans, on = 'url', how='inner')"
   ]
  },
  {
   "cell_type": "code",
   "execution_count": 20,
   "metadata": {},
   "outputs": [
    {
     "data": {
      "text/html": [
       "<div>\n",
       "<style scoped>\n",
       "    .dataframe tbody tr th:only-of-type {\n",
       "        vertical-align: middle;\n",
       "    }\n",
       "\n",
       "    .dataframe tbody tr th {\n",
       "        vertical-align: top;\n",
       "    }\n",
       "\n",
       "    .dataframe thead th {\n",
       "        text-align: right;\n",
       "    }\n",
       "</style>\n",
       "<table border=\"1\" class=\"dataframe\">\n",
       "  <thead>\n",
       "    <tr style=\"text-align: right;\">\n",
       "      <th></th>\n",
       "      <th>comments</th>\n",
       "      <th>description</th>\n",
       "      <th>duration</th>\n",
       "      <th>event</th>\n",
       "      <th>film_date</th>\n",
       "      <th>languages</th>\n",
       "      <th>main_speaker</th>\n",
       "      <th>name</th>\n",
       "      <th>num_speaker</th>\n",
       "      <th>published_date</th>\n",
       "      <th>...</th>\n",
       "      <th>funny_count</th>\n",
       "      <th>ratings_count</th>\n",
       "      <th>ratings_nbr_sc</th>\n",
       "      <th>comm_sc</th>\n",
       "      <th>views_sc</th>\n",
       "      <th>popularity</th>\n",
       "      <th>Scaled_fcount</th>\n",
       "      <th>transcript</th>\n",
       "      <th>loughter</th>\n",
       "      <th>Scaled_lough</th>\n",
       "    </tr>\n",
       "  </thead>\n",
       "  <tbody>\n",
       "    <tr>\n",
       "      <th>0</th>\n",
       "      <td>4553</td>\n",
       "      <td>Sir Ken Robinson makes an entertaining and pro...</td>\n",
       "      <td>1164</td>\n",
       "      <td>TED2006</td>\n",
       "      <td>1140825600</td>\n",
       "      <td>60</td>\n",
       "      <td>Ken Robinson</td>\n",
       "      <td>Ken Robinson: Do schools kill creativity?</td>\n",
       "      <td>1</td>\n",
       "      <td>1151367060</td>\n",
       "      <td>...</td>\n",
       "      <td>19645</td>\n",
       "      <td>93850</td>\n",
       "      <td>1.000000</td>\n",
       "      <td>0.710872</td>\n",
       "      <td>1.000000</td>\n",
       "      <td>0.903624</td>\n",
       "      <td>1.000000</td>\n",
       "      <td>Good morning. How are you?(Laughter)It's been ...</td>\n",
       "      <td>39</td>\n",
       "      <td>0.527027</td>\n",
       "    </tr>\n",
       "    <tr>\n",
       "      <th>1</th>\n",
       "      <td>265</td>\n",
       "      <td>With the same humor and humanity he exuded in ...</td>\n",
       "      <td>977</td>\n",
       "      <td>TED2006</td>\n",
       "      <td>1140825600</td>\n",
       "      <td>43</td>\n",
       "      <td>Al Gore</td>\n",
       "      <td>Al Gore: Averting the climate crisis</td>\n",
       "      <td>1</td>\n",
       "      <td>1151367060</td>\n",
       "      <td>...</td>\n",
       "      <td>544</td>\n",
       "      <td>2936</td>\n",
       "      <td>0.030582</td>\n",
       "      <td>0.041081</td>\n",
       "      <td>0.066772</td>\n",
       "      <td>0.046145</td>\n",
       "      <td>0.027692</td>\n",
       "      <td>Thank you so much, Chris. And it's truly a gre...</td>\n",
       "      <td>22</td>\n",
       "      <td>0.297297</td>\n",
       "    </tr>\n",
       "  </tbody>\n",
       "</table>\n",
       "<p>2 rows × 27 columns</p>\n",
       "</div>"
      ],
      "text/plain": [
       "   comments                                        description  duration  \\\n",
       "0      4553  Sir Ken Robinson makes an entertaining and pro...      1164   \n",
       "1       265  With the same humor and humanity he exuded in ...       977   \n",
       "\n",
       "     event   film_date  languages  main_speaker  \\\n",
       "0  TED2006  1140825600         60  Ken Robinson   \n",
       "1  TED2006  1140825600         43       Al Gore   \n",
       "\n",
       "                                        name  num_speaker  published_date  \\\n",
       "0  Ken Robinson: Do schools kill creativity?            1      1151367060   \n",
       "1       Al Gore: Averting the climate crisis            1      1151367060   \n",
       "\n",
       "       ...      funny_count ratings_count ratings_nbr_sc   comm_sc  views_sc  \\\n",
       "0      ...            19645         93850       1.000000  0.710872  1.000000   \n",
       "1      ...              544          2936       0.030582  0.041081  0.066772   \n",
       "\n",
       "  popularity  Scaled_fcount  \\\n",
       "0   0.903624       1.000000   \n",
       "1   0.046145       0.027692   \n",
       "\n",
       "                                          transcript  loughter  Scaled_lough  \n",
       "0  Good morning. How are you?(Laughter)It's been ...        39      0.527027  \n",
       "1  Thank you so much, Chris. And it's truly a gre...        22      0.297297  \n",
       "\n",
       "[2 rows x 27 columns]"
      ]
     },
     "execution_count": 20,
     "metadata": {},
     "output_type": "execute_result"
    }
   ],
   "source": [
    "lough_funny.head(2)"
   ]
  },
  {
   "cell_type": "code",
   "execution_count": 21,
   "metadata": {},
   "outputs": [],
   "source": [
    "# create a new DataFarme with two coulums, i.e Scaled_fcount, Scaled_lough, popularity\n",
    "df = lough_funny[['published_date','Scaled_fcount', 'Scaled_lough','popularity']]"
   ]
  },
  {
   "cell_type": "code",
   "execution_count": 22,
   "metadata": {},
   "outputs": [
    {
     "name": "stderr",
     "output_type": "stream",
     "text": [
      "C:\\Users\\pc-hp\\Anaconda3\\lib\\site-packages\\ipykernel_launcher.py:2: SettingWithCopyWarning: \n",
      "A value is trying to be set on a copy of a slice from a DataFrame.\n",
      "Try using .loc[row_indexer,col_indexer] = value instead\n",
      "\n",
      "See the caveats in the documentation: http://pandas.pydata.org/pandas-docs/stable/indexing.html#indexing-view-versus-copy\n",
      "  \n"
     ]
    }
   ],
   "source": [
    "#  compute for each record funny_factor , Funny_factor = (funny_count + frequency_of_laughter)/2\n",
    "df['funny_factor'] = (df['Scaled_fcount'] + df['Scaled_lough'])/2"
   ]
  },
  {
   "cell_type": "code",
   "execution_count": 23,
   "metadata": {},
   "outputs": [
    {
     "data": {
      "text/html": [
       "<div>\n",
       "<style scoped>\n",
       "    .dataframe tbody tr th:only-of-type {\n",
       "        vertical-align: middle;\n",
       "    }\n",
       "\n",
       "    .dataframe tbody tr th {\n",
       "        vertical-align: top;\n",
       "    }\n",
       "\n",
       "    .dataframe thead th {\n",
       "        text-align: right;\n",
       "    }\n",
       "</style>\n",
       "<table border=\"1\" class=\"dataframe\">\n",
       "  <thead>\n",
       "    <tr style=\"text-align: right;\">\n",
       "      <th></th>\n",
       "      <th>published_date</th>\n",
       "      <th>Scaled_fcount</th>\n",
       "      <th>Scaled_lough</th>\n",
       "      <th>popularity</th>\n",
       "      <th>funny_factor</th>\n",
       "    </tr>\n",
       "  </thead>\n",
       "  <tbody>\n",
       "    <tr>\n",
       "      <th>0</th>\n",
       "      <td>1151367060</td>\n",
       "      <td>1.000000</td>\n",
       "      <td>0.527027</td>\n",
       "      <td>0.903624</td>\n",
       "      <td>0.763514</td>\n",
       "    </tr>\n",
       "    <tr>\n",
       "      <th>1</th>\n",
       "      <td>1151367060</td>\n",
       "      <td>0.027692</td>\n",
       "      <td>0.297297</td>\n",
       "      <td>0.046145</td>\n",
       "      <td>0.162494</td>\n",
       "    </tr>\n",
       "    <tr>\n",
       "      <th>2</th>\n",
       "      <td>1151367060</td>\n",
       "      <td>0.049071</td>\n",
       "      <td>0.513514</td>\n",
       "      <td>0.027353</td>\n",
       "      <td>0.281292</td>\n",
       "    </tr>\n",
       "  </tbody>\n",
       "</table>\n",
       "</div>"
      ],
      "text/plain": [
       "   published_date  Scaled_fcount  Scaled_lough  popularity  funny_factor\n",
       "0      1151367060       1.000000      0.527027    0.903624      0.763514\n",
       "1      1151367060       0.027692      0.297297    0.046145      0.162494\n",
       "2      1151367060       0.049071      0.513514    0.027353      0.281292"
      ]
     },
     "execution_count": 23,
     "metadata": {},
     "output_type": "execute_result"
    }
   ],
   "source": [
    "df.head(3)"
   ]
  },
  {
   "cell_type": "code",
   "execution_count": 24,
   "metadata": {},
   "outputs": [
    {
     "name": "stdout",
     "output_type": "stream",
     "text": [
      "<class 'pandas.core.frame.DataFrame'>\n",
      "Int64Index: 2461 entries, 0 to 2460\n",
      "Data columns (total 5 columns):\n",
      "published_date    2461 non-null int64\n",
      "Scaled_fcount     2461 non-null float64\n",
      "Scaled_lough      2461 non-null float64\n",
      "popularity        2461 non-null float64\n",
      "funny_factor      2461 non-null float64\n",
      "dtypes: float64(4), int64(1)\n",
      "memory usage: 115.4 KB\n"
     ]
    }
   ],
   "source": [
    "df.info()"
   ]
  },
  {
   "cell_type": "markdown",
   "metadata": {},
   "source": [
    "## Correlation Analysis\n",
    "#### Compute Pearson correlation coefficent for evey numeric feature  "
   ]
  },
  {
   "cell_type": "code",
   "execution_count": 25,
   "metadata": {},
   "outputs": [],
   "source": [
    "import numpy as np\n",
    "from sklearn.preprocessing import MinMaxScaler\n",
    "import matplotlib.pyplot as plt"
   ]
  },
  {
   "cell_type": "code",
   "execution_count": 26,
   "metadata": {},
   "outputs": [
    {
     "data": {
      "text/html": [
       "<div>\n",
       "<style scoped>\n",
       "    .dataframe tbody tr th:only-of-type {\n",
       "        vertical-align: middle;\n",
       "    }\n",
       "\n",
       "    .dataframe tbody tr th {\n",
       "        vertical-align: top;\n",
       "    }\n",
       "\n",
       "    .dataframe thead th {\n",
       "        text-align: right;\n",
       "    }\n",
       "</style>\n",
       "<table border=\"1\" class=\"dataframe\">\n",
       "  <thead>\n",
       "    <tr style=\"text-align: right;\">\n",
       "      <th></th>\n",
       "      <th>comments</th>\n",
       "      <th>duration</th>\n",
       "      <th>languages</th>\n",
       "      <th>num_speaker</th>\n",
       "      <th>views</th>\n",
       "      <th>funny_count</th>\n",
       "      <th>loughter</th>\n",
       "      <th>ratings_count</th>\n",
       "      <th>popularity</th>\n",
       "      <th>funny_factor</th>\n",
       "      <th>published_date</th>\n",
       "    </tr>\n",
       "  </thead>\n",
       "  <tbody>\n",
       "    <tr>\n",
       "      <th>0</th>\n",
       "      <td>0.710872</td>\n",
       "      <td>0.296286</td>\n",
       "      <td>0.830986</td>\n",
       "      <td>0.0</td>\n",
       "      <td>1.000000</td>\n",
       "      <td>1.000000</td>\n",
       "      <td>0.527027</td>\n",
       "      <td>1.000000</td>\n",
       "      <td>0.903624</td>\n",
       "      <td>0.763514</td>\n",
       "      <td>1151367060</td>\n",
       "    </tr>\n",
       "    <tr>\n",
       "      <th>1</th>\n",
       "      <td>0.041081</td>\n",
       "      <td>0.242442</td>\n",
       "      <td>0.591549</td>\n",
       "      <td>0.0</td>\n",
       "      <td>0.064681</td>\n",
       "      <td>0.027692</td>\n",
       "      <td>0.297297</td>\n",
       "      <td>0.030582</td>\n",
       "      <td>0.046145</td>\n",
       "      <td>0.162494</td>\n",
       "      <td>1151367060</td>\n",
       "    </tr>\n",
       "    <tr>\n",
       "      <th>2</th>\n",
       "      <td>0.019057</td>\n",
       "      <td>0.331414</td>\n",
       "      <td>0.352113</td>\n",
       "      <td>0.0</td>\n",
       "      <td>0.031450</td>\n",
       "      <td>0.049071</td>\n",
       "      <td>0.513514</td>\n",
       "      <td>0.029387</td>\n",
       "      <td>0.027353</td>\n",
       "      <td>0.281292</td>\n",
       "      <td>1151367060</td>\n",
       "    </tr>\n",
       "  </tbody>\n",
       "</table>\n",
       "</div>"
      ],
      "text/plain": [
       "   comments  duration  languages  num_speaker     views  funny_count  \\\n",
       "0  0.710872  0.296286   0.830986          0.0  1.000000     1.000000   \n",
       "1  0.041081  0.242442   0.591549          0.0  0.064681     0.027692   \n",
       "2  0.019057  0.331414   0.352113          0.0  0.031450     0.049071   \n",
       "\n",
       "   loughter  ratings_count  popularity  funny_factor  published_date  \n",
       "0  0.527027       1.000000    0.903624      0.763514      1151367060  \n",
       "1  0.297297       0.030582    0.046145      0.162494      1151367060  \n",
       "2  0.513514       0.029387    0.027353      0.281292      1151367060  "
      ]
     },
     "execution_count": 26,
     "metadata": {},
     "output_type": "execute_result"
    }
   ],
   "source": [
    "# create new data frame with numeric features and perfom Min_Max scaling\n",
    "# merge popularity, funny_factor and published date with the scaled features\n",
    "df_features = lough_funny[['comments','duration','languages', 'num_speaker','views','funny_count','loughter','ratings_count']]\n",
    "sclar = MinMaxScaler()\n",
    "df_scaled = sclar.fit_transform(df_features)\n",
    "df_corr = pd.DataFrame(df_scaled, columns = ['comments','duration','languages', 'num_speaker','views','funny_count','loughter','ratings_count'])\n",
    "df_corr['popularity'] = df['popularity']\n",
    "df_corr['funny_factor'] = df['funny_factor']\n",
    "df_corr['published_date'] = df['published_date']\n",
    "df_corr.head(3)"
   ]
  },
  {
   "cell_type": "code",
   "execution_count": 27,
   "metadata": {},
   "outputs": [],
   "source": [
    "# Convert a timestamp 'published_date' value into date object then convert the value to the corresponding weekday\n",
    "from datetime import datetime\n",
    "import calendar \n",
    "df_corr['Published_day'] = df_corr['published_date'].apply(lambda x: datetime.fromtimestamp(x).strftime('%m/%d/%Y'))\n",
    "df_corr['Pweek_day']= (pd.to_datetime(df_corr['Published_day'])).apply(lambda d: calendar.day_name[d.weekday()])"
   ]
  },
  {
   "cell_type": "code",
   "execution_count": 28,
   "metadata": {},
   "outputs": [
    {
     "data": {
      "text/html": [
       "<div>\n",
       "<style scoped>\n",
       "    .dataframe tbody tr th:only-of-type {\n",
       "        vertical-align: middle;\n",
       "    }\n",
       "\n",
       "    .dataframe tbody tr th {\n",
       "        vertical-align: top;\n",
       "    }\n",
       "\n",
       "    .dataframe thead th {\n",
       "        text-align: right;\n",
       "    }\n",
       "</style>\n",
       "<table border=\"1\" class=\"dataframe\">\n",
       "  <thead>\n",
       "    <tr style=\"text-align: right;\">\n",
       "      <th></th>\n",
       "      <th>comments</th>\n",
       "      <th>duration</th>\n",
       "      <th>languages</th>\n",
       "      <th>num_speaker</th>\n",
       "      <th>views</th>\n",
       "      <th>funny_count</th>\n",
       "      <th>loughter</th>\n",
       "      <th>ratings_count</th>\n",
       "      <th>popularity</th>\n",
       "      <th>funny_factor</th>\n",
       "    </tr>\n",
       "  </thead>\n",
       "  <tbody>\n",
       "    <tr>\n",
       "      <th>0</th>\n",
       "      <td>0.710872</td>\n",
       "      <td>0.296286</td>\n",
       "      <td>0.830986</td>\n",
       "      <td>0.0</td>\n",
       "      <td>1.000000</td>\n",
       "      <td>1.000000</td>\n",
       "      <td>0.527027</td>\n",
       "      <td>1.000000</td>\n",
       "      <td>0.903624</td>\n",
       "      <td>0.763514</td>\n",
       "    </tr>\n",
       "    <tr>\n",
       "      <th>1</th>\n",
       "      <td>0.041081</td>\n",
       "      <td>0.242442</td>\n",
       "      <td>0.591549</td>\n",
       "      <td>0.0</td>\n",
       "      <td>0.064681</td>\n",
       "      <td>0.027692</td>\n",
       "      <td>0.297297</td>\n",
       "      <td>0.030582</td>\n",
       "      <td>0.046145</td>\n",
       "      <td>0.162494</td>\n",
       "    </tr>\n",
       "  </tbody>\n",
       "</table>\n",
       "</div>"
      ],
      "text/plain": [
       "   comments  duration  languages  num_speaker     views  funny_count  \\\n",
       "0  0.710872  0.296286   0.830986          0.0  1.000000     1.000000   \n",
       "1  0.041081  0.242442   0.591549          0.0  0.064681     0.027692   \n",
       "\n",
       "   loughter  ratings_count  popularity  funny_factor  \n",
       "0  0.527027       1.000000    0.903624      0.763514  \n",
       "1  0.297297       0.030582    0.046145      0.162494  "
      ]
     },
     "execution_count": 28,
     "metadata": {},
     "output_type": "execute_result"
    }
   ],
   "source": [
    "dfcorr_copy = df_corr.copy()\n",
    "dfcorr_copy.drop(['published_date','Published_day', 'Pweek_day'], axis = 1, inplace = True)\n",
    "dfcorr_copy.head(2)"
   ]
  },
  {
   "cell_type": "code",
   "execution_count": 29,
   "metadata": {},
   "outputs": [
    {
     "data": {
      "image/png": "[encoded data removed]",
      "text/plain": [
       "<Figure size 432x288 with 2 Axes>"
      ]
     },
     "metadata": {},
     "output_type": "display_data"
    }
   ],
   "source": [
    "# Compute Pearson correlation for each pair of features\n",
    "# pair wise correlation matrix, the darker the color, higher the correlation, \n",
    "# dark brown postively indcate +ve corrlation and dark blue -ve correlation \n",
    "correlation = dfcorr_copy.corr()\n",
    "fig = plt.figure()\n",
    "ax = fig.add_subplot(111)\n",
    "cax = ax.matshow(correlation,cmap='coolwarm', vmin=-1, vmax=1)\n",
    "fig.colorbar(cax)\n",
    "ticks = np.arange(0,len(dfcorr_copy.columns),1)\n",
    "ax.set_xticks(ticks)\n",
    "plt.xticks(rotation=90)\n",
    "ax.set_yticks(ticks)\n",
    "ax.set_xticklabels(dfcorr_copy.columns)\n",
    "ax.set_yticklabels(dfcorr_copy.columns)\n",
    "plt.show()"
   ]
  },
  {
   "cell_type": "code",
   "execution_count": 30,
   "metadata": {
    "scrolled": false
   },
   "outputs": [
    {
     "data": {
      "image/png": "[encoded data removed]",
      "text/plain": [
       "<Figure size 432x288 with 1 Axes>"
      ]
     },
     "metadata": {},
     "output_type": "display_data"
    },
    {
     "data": {
      "image/png": "[encoded data removed]",
      "text/plain": [
       "<Figure size 432x288 with 1 Axes>"
      ]
     },
     "metadata": {},
     "output_type": "display_data"
    },
    {
     "data": {
      "image/png": "[encoded data removed]",
      "text/plain": [
       "<Figure size 432x288 with 1 Axes>"
      ]
     },
     "metadata": {},
     "output_type": "display_data"
    },
    {
     "data": {
      "image/png": "[encoded data removed]",
      "text/plain": [
       "<Figure size 432x288 with 1 Axes>"
      ]
     },
     "metadata": {},
     "output_type": "display_data"
    }
   ],
   "source": [
    "# function to plot a scatter plot for column in X , on x-axis with column Y , on y=axis\n",
    "import random\n",
    "X = ['popularity']\n",
    "Y = ['comments','views','ratings_count','languages']\n",
    "colors = ['red','black','blue','green','yellow','brown']\n",
    "#fig, axs = plt.subplots(4, 3,figsize=(20,30))\n",
    "def scatter_plotter(X,Y):\n",
    "    for x in X:\n",
    "        for y in Y:\n",
    "            if x == y:\n",
    "                pass\n",
    "            else:\n",
    "                pcor = 0 \n",
    "                #ax1= fig.add_subplot(2,2,i)\n",
    "                plt.scatter(dfcorr_copy[x],dfcorr_copy[y], c= random.choice(colors),marker=\"o\")\n",
    "                pcor = dfcorr_copy[x].corr(dfcorr_copy[y])\n",
    "                plt.title('Pearson correlation {0}'.format(pcor))\n",
    "                plt.xlabel(x)\n",
    "                plt.ylabel(y)\n",
    "                plt.show()\n",
    "scatter_plotter(X,Y)    "
   ]
  },
  {
   "cell_type": "code",
   "execution_count": 31,
   "metadata": {},
   "outputs": [
    {
     "data": {
      "image/png": "[encoded data removed]",
      "text/plain": [
       "<Figure size 720x360 with 2 Axes>"
      ]
     },
     "metadata": {},
     "output_type": "display_data"
    }
   ],
   "source": [
    "fig, (ax1,ax2) = plt.subplots(ncols= 2,figsize=(10,5))\n",
    "# funny count vs funny factor scatter plot\n",
    "ax1.scatter(dfcorr_copy['funny_factor'], dfcorr_copy['funny_count'], c= 'r')\n",
    "ax1.set_xlabel('funny factor')\n",
    "ax1.set_ylabel('funny count')\n",
    "# funny factor vs loughter sactter plot\n",
    "ax2.scatter(dfcorr_copy['funny_factor'], dfcorr_copy['loughter'])\n",
    "ax2.set_xlabel('funny factor')\n",
    "ax2.set_ylabel('loughter')\n",
    "plt.show()"
   ]
  },
  {
   "cell_type": "code",
   "execution_count": 32,
   "metadata": {},
   "outputs": [
    {
     "data": {
      "text/html": [
       "<div>\n",
       "<style scoped>\n",
       "    .dataframe tbody tr th:only-of-type {\n",
       "        vertical-align: middle;\n",
       "    }\n",
       "\n",
       "    .dataframe tbody tr th {\n",
       "        vertical-align: top;\n",
       "    }\n",
       "\n",
       "    .dataframe thead th {\n",
       "        text-align: right;\n",
       "    }\n",
       "</style>\n",
       "<table border=\"1\" class=\"dataframe\">\n",
       "  <thead>\n",
       "    <tr style=\"text-align: right;\">\n",
       "      <th></th>\n",
       "      <th>comments</th>\n",
       "      <th>duration</th>\n",
       "      <th>languages</th>\n",
       "      <th>num_speaker</th>\n",
       "      <th>views</th>\n",
       "      <th>funny_count</th>\n",
       "      <th>loughter</th>\n",
       "      <th>ratings_count</th>\n",
       "      <th>popularity</th>\n",
       "      <th>funny_factor</th>\n",
       "      <th>published_date</th>\n",
       "      <th>Published_day</th>\n",
       "      <th>Pweek_day</th>\n",
       "    </tr>\n",
       "  </thead>\n",
       "  <tbody>\n",
       "    <tr>\n",
       "      <th>0</th>\n",
       "      <td>0.710872</td>\n",
       "      <td>0.296286</td>\n",
       "      <td>0.830986</td>\n",
       "      <td>0.0</td>\n",
       "      <td>1.000000</td>\n",
       "      <td>1.000000</td>\n",
       "      <td>0.527027</td>\n",
       "      <td>1.000000</td>\n",
       "      <td>0.903624</td>\n",
       "      <td>0.763514</td>\n",
       "      <td>1151367060</td>\n",
       "      <td>06/27/2006</td>\n",
       "      <td>Tuesday</td>\n",
       "    </tr>\n",
       "    <tr>\n",
       "      <th>1</th>\n",
       "      <td>0.041081</td>\n",
       "      <td>0.242442</td>\n",
       "      <td>0.591549</td>\n",
       "      <td>0.0</td>\n",
       "      <td>0.064681</td>\n",
       "      <td>0.027692</td>\n",
       "      <td>0.297297</td>\n",
       "      <td>0.030582</td>\n",
       "      <td>0.046145</td>\n",
       "      <td>0.162494</td>\n",
       "      <td>1151367060</td>\n",
       "      <td>06/27/2006</td>\n",
       "      <td>Tuesday</td>\n",
       "    </tr>\n",
       "    <tr>\n",
       "      <th>2</th>\n",
       "      <td>0.019057</td>\n",
       "      <td>0.331414</td>\n",
       "      <td>0.352113</td>\n",
       "      <td>0.0</td>\n",
       "      <td>0.031450</td>\n",
       "      <td>0.049071</td>\n",
       "      <td>0.513514</td>\n",
       "      <td>0.029387</td>\n",
       "      <td>0.027353</td>\n",
       "      <td>0.281292</td>\n",
       "      <td>1151367060</td>\n",
       "      <td>06/27/2006</td>\n",
       "      <td>Tuesday</td>\n",
       "    </tr>\n",
       "  </tbody>\n",
       "</table>\n",
       "</div>"
      ],
      "text/plain": [
       "   comments  duration  languages  num_speaker     views  funny_count  \\\n",
       "0  0.710872  0.296286   0.830986          0.0  1.000000     1.000000   \n",
       "1  0.041081  0.242442   0.591549          0.0  0.064681     0.027692   \n",
       "2  0.019057  0.331414   0.352113          0.0  0.031450     0.049071   \n",
       "\n",
       "   loughter  ratings_count  popularity  funny_factor  published_date  \\\n",
       "0  0.527027       1.000000    0.903624      0.763514      1151367060   \n",
       "1  0.297297       0.030582    0.046145      0.162494      1151367060   \n",
       "2  0.513514       0.029387    0.027353      0.281292      1151367060   \n",
       "\n",
       "  Published_day Pweek_day  \n",
       "0    06/27/2006   Tuesday  \n",
       "1    06/27/2006   Tuesday  \n",
       "2    06/27/2006   Tuesday  "
      ]
     },
     "execution_count": 32,
     "metadata": {},
     "output_type": "execute_result"
    }
   ],
   "source": [
    "df_corr.head(3)"
   ]
  },
  {
   "cell_type": "code",
   "execution_count": 33,
   "metadata": {},
   "outputs": [
    {
     "data": {
      "image/png": "[encoded data removed]",
      "text/plain": [
       "<Figure size 1080x720 with 6 Axes>"
      ]
     },
     "metadata": {},
     "output_type": "display_data"
    }
   ],
   "source": [
    "# Plot bar graph for publication_day vs comments, views, popularity,\n",
    "#funny_factor,loughter,funny_coutnt repsectively\n",
    "fig  = plt.figure()\n",
    "#fig.subplots_adjust(hspace=.5)\n",
    "plt.subplot(2,3,1)\n",
    "x1 =df_corr.groupby(['Pweek_day'])['comments'].sum().plot(kind= 'bar',figsize=(15,10),title=\"Comment vs published day\",sharex = True)\n",
    "plt.subplot(2,3,2)\n",
    "x2 = df_corr.groupby(['Pweek_day'])['views'].sum().plot(kind = 'bar',figsize=(15,10),title=\"views vs published day\", sharex = True)\n",
    "plt.subplot(2,3,3)\n",
    "x3= df_corr.groupby(['Pweek_day'])['popularity'].sum().plot(kind='bar',figsize=(15,10),title=\"Popularity vs published day\",sharex = True)\n",
    "plt.subplot(2,3,4)\n",
    "x4 = df_corr.groupby(['Pweek_day'])['funny_factor'].sum().plot(kind='bar',figsize=(15,10),title=\"Funny fact vs published day\",sharex = True)\n",
    "plt.subplot(2,3,5)\n",
    "x5= df_corr.groupby(['Pweek_day'])['loughter'].sum().plot(kind='bar',figsize=(15,10),title=\"loughter vs published day\",sharex = True)\n",
    "plt.subplot(2,3,6)\n",
    "x6= df_corr.groupby(['Pweek_day'])['funny_count'].sum().plot(kind='bar',figsize=(15,10),title=\"funny_count vs published day\",sharex = True)\n",
    "\n",
    "#plt.subplots_adjust()\n",
    "plt.show()\n",
    "y_labels = ['comments', 'views','popularity','funny_fact','loughter','funny_count']\n",
    "i = 0\n",
    "for x in [x1,x2,x3,x4,x5,x6]:\n",
    "    x.set_ylabel(y_labels[i])\n",
    "    i+=1\n"
   ]
  },
  {
   "cell_type": "markdown",
   "metadata": {},
   "source": [
    "### Boxplot Analysis\n",
    "###### Polt a Boxplot for all the features choosen,to analyse outliers and the range of the value.Compute 1st quantile , 3rd quantile and Inter Quantile Range column wise then values less than Q1-1.5*IQR and values greater that Q3+1.5*IQR are treated as outliers. Cout the number of outliers in each column and return total number of outliers in each column.\n"
   ]
  },
  {
   "cell_type": "code",
   "execution_count": 34,
   "metadata": {},
   "outputs": [
    {
     "data": {
      "image/png": "[encoded data removed]",
      "text/plain": [
       "<Figure size 1440x2160 with 12 Axes>"
      ]
     },
     "metadata": {},
     "output_type": "display_data"
    }
   ],
   "source": [
    "# Plot a boxplot for all the columns listed on colum variable \n",
    "fig, axs = plt.subplots(4, 3,figsize=(20,30))\n",
    "colum = ['comments','duration','languages', 'num_speaker','views','funny_count',\n",
    "         'loughter','ratings_count','funny_factor','popularity']\n",
    "plot_list = list(axs.flat)\n",
    "for c,a in zip(colum,plot_list):\n",
    "    a.boxplot(df_corr[c])\n",
    "    a.set_title(c)\n",
    "    "
   ]
  },
  {
   "cell_type": "code",
   "execution_count": 35,
   "metadata": {},
   "outputs": [
    {
     "data": {
      "text/plain": [
       "[('views', 239),\n",
       " ('popularity', 228),\n",
       " ('comments', 195),\n",
       " ('funny_count', 366),\n",
       " ('ratings_count', 230),\n",
       " ('funny_factor', 164),\n",
       " ('loughter', 183)]"
      ]
     },
     "execution_count": 35,
     "metadata": {},
     "output_type": "execute_result"
    }
   ],
   "source": [
    "# Compute first quantile(Q1), thrid Qauntile(Q3) and IQR(IRQ = Q3 -Q1) for each Column listed in variable cols\n",
    "# Records with values less than Q1-1.5*IQR and values greater that Q3+1.5*IQR treat as outliers.\n",
    "# Count the number of outliers for each column and return (column_name,total number of outliers)\n",
    "\n",
    "cols = ['views','popularity','comments','funny_count','ratings_count','funny_factor','loughter']\n",
    "outdict = {}\n",
    "def count_outlier():\n",
    "    for i in cols:\n",
    "        Q1 = df_corr[i].quantile(0.25)\n",
    "        Q3 = df_corr[i].quantile(0.75)\n",
    "        IQR = Q3 - Q1\n",
    "        no_outlier = (df_corr[(df_corr[i] < Q1-1.5*IQR ) | (df_corr[i] > Q3+1.5*IQR)][i]).count()\n",
    "        outdict[i]= no_outlier\n",
    "    return ([(col_name,val)for col_name , val in outdict.items()])       \n",
    "count_outlier()"
   ]
  },
  {
   "cell_type": "code",
   "execution_count": null,
   "metadata": {},
   "outputs": [],
   "source": []
  }
 ],
 "metadata": {
  "kernelspec": {
   "display_name": "Python 3",
   "language": "python",
   "name": "python3"
  },
  "language_info": {
   "codemirror_mode": {
    "name": "ipython",
    "version": 3
   },
   "file_extension": ".py",
   "mimetype": "text/x-python",
   "name": "python",
   "nbconvert_exporter": "python",
   "pygments_lexer": "ipython3",
   "version": "3.6.5"
  }
 },
 "nbformat": 4,
 "nbformat_minor": 2
}
