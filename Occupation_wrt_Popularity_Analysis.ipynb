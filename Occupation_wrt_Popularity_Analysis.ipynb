{
 "cells": [
  {
   "cell_type": "code",
   "execution_count": 8,
   "metadata": {},
   "outputs": [
    {
     "data": {
      "text/html": [
       "<div>\n",
       "<style scoped>\n",
       "    .dataframe tbody tr th:only-of-type {\n",
       "        vertical-align: middle;\n",
       "    }\n",
       "\n",
       "    .dataframe tbody tr th {\n",
       "        vertical-align: top;\n",
       "    }\n",
       "\n",
       "    .dataframe thead th {\n",
       "        text-align: right;\n",
       "    }\n",
       "</style>\n",
       "<table border=\"1\" class=\"dataframe\">\n",
       "  <thead>\n",
       "    <tr style=\"text-align: right;\">\n",
       "      <th></th>\n",
       "      <th>Unnamed: 0</th>\n",
       "      <th>comments</th>\n",
       "      <th>description</th>\n",
       "      <th>duration</th>\n",
       "      <th>event</th>\n",
       "      <th>film_date</th>\n",
       "      <th>languages</th>\n",
       "      <th>main_speaker</th>\n",
       "      <th>name</th>\n",
       "      <th>num_speaker</th>\n",
       "      <th>...</th>\n",
       "      <th>ratings_count</th>\n",
       "      <th>popularity</th>\n",
       "      <th>funny_factor</th>\n",
       "      <th>popularity_class</th>\n",
       "      <th>TEDx</th>\n",
       "      <th>TED</th>\n",
       "      <th>TED_Global</th>\n",
       "      <th>TED_Other</th>\n",
       "      <th>Non_TED_University</th>\n",
       "      <th>Non_TED_Other</th>\n",
       "    </tr>\n",
       "  </thead>\n",
       "  <tbody>\n",
       "    <tr>\n",
       "      <td>0</td>\n",
       "      <td>0</td>\n",
       "      <td>4553</td>\n",
       "      <td>Sir Ken Robinson makes an entertaining and pro...</td>\n",
       "      <td>1164</td>\n",
       "      <td>TED2006</td>\n",
       "      <td>1140825600</td>\n",
       "      <td>60</td>\n",
       "      <td>Ken Robinson</td>\n",
       "      <td>Ken Robinson: Do schools kill creativity?</td>\n",
       "      <td>1</td>\n",
       "      <td>...</td>\n",
       "      <td>93850</td>\n",
       "      <td>0.903624</td>\n",
       "      <td>0.763514</td>\n",
       "      <td>2</td>\n",
       "      <td>0</td>\n",
       "      <td>1</td>\n",
       "      <td>0</td>\n",
       "      <td>0</td>\n",
       "      <td>0</td>\n",
       "      <td>0</td>\n",
       "    </tr>\n",
       "  </tbody>\n",
       "</table>\n",
       "<p>1 rows × 48 columns</p>\n",
       "</div>"
      ],
      "text/plain": [
       "   Unnamed: 0  comments                                        description  \\\n",
       "0           0      4553  Sir Ken Robinson makes an entertaining and pro...   \n",
       "\n",
       "   duration    event   film_date  languages  main_speaker  \\\n",
       "0      1164  TED2006  1140825600         60  Ken Robinson   \n",
       "\n",
       "                                        name  num_speaker  ...  ratings_count  \\\n",
       "0  Ken Robinson: Do schools kill creativity?            1  ...          93850   \n",
       "\n",
       "  popularity funny_factor popularity_class TEDx TED TED_Global  TED_Other  \\\n",
       "0   0.903624     0.763514                2    0   1          0          0   \n",
       "\n",
       "   Non_TED_University  Non_TED_Other  \n",
       "0                   0              0  \n",
       "\n",
       "[1 rows x 48 columns]"
      ]
     },
     "execution_count": 8,
     "metadata": {},
     "output_type": "execute_result"
    }
   ],
   "source": [
    "import pandas as pd\n",
    "import matplotlib.pyplot as plt\n",
    "pd.options.mode.chained_assignment = None\n",
    "df_ted = pd.read_csv('ted_main_dummy_columns.csv')\n",
    "#df_ted = pd.read_csv('main_dataset_dummy_columns_TEDevents_added.csv')\n",
    "df_ted.head(1)"
   ]
  },
  {
   "cell_type": "code",
   "execution_count": 9,
   "metadata": {},
   "outputs": [],
   "source": [
    "#df_occ.groupby(['popularity_class']).plot(kind='bar')"
   ]
  },
  {
   "cell_type": "code",
   "execution_count": 10,
   "metadata": {},
   "outputs": [],
   "source": [
    "# Literature , Art , Economy_Politics , Medicine, Academy, Engineering_Science , Other_Occupations \n",
    "#df_occ = df_ted[['Literature','Art','Economy_Politics','Medicine','Academy','Engineering_Science','Other_Occupations','popularity_class']]\n",
    "#type(df_occ)\n",
    "%matplotlib inline\n",
    "df_ted['Occupation'] = ''\n",
    "df_ted.loc[(df_ted['Literature'] == 1),'Occupation'] = 'Literature'\n",
    "df_ted.loc[(df_ted['Art'] == 1),'Occupation'] = 'Art'\n",
    "df_ted.loc[(df_ted['Economy_Politics'] == 1),'Occupation'] = 'Economy_Politics'\n",
    "df_ted.loc[(df_ted['Medicine'] == 1),'Occupation'] = 'Medicine'\n",
    "df_ted.loc[(df_ted['Academy'] == 1),'Occupation'] = 'Academy'\n",
    "df_ted.loc[(df_ted['Engineering_Science'] == 1),'Occupation'] = 'Engineering_Science'\n",
    "df_ted.loc[(df_ted['Other_Occupations'] == 1),'Occupation'] = 'Other_Occupations'"
   ]
  },
  {
   "cell_type": "code",
   "execution_count": 11,
   "metadata": {},
   "outputs": [
    {
     "data": {
      "text/plain": [
       "Engineering_Science    799\n",
       "Other_Occupations      503\n",
       "Art                    424\n",
       "Economy_Politics       364\n",
       "Literature             322\n",
       "Medicine                73\n",
       "Academy                 65\n",
       "Name: Occupation, dtype: int64"
      ]
     },
     "execution_count": 11,
     "metadata": {},
     "output_type": "execute_result"
    }
   ],
   "source": [
    "df_ted['Occupation'].value_counts()"
   ]
  },
  {
   "cell_type": "code",
   "execution_count": 12,
   "metadata": {},
   "outputs": [],
   "source": [
    "#df = df_ted['Occupation','popularity_class']\n",
    "#occ_plt = df_ted.groupby(['Occupation','popularity_class']).size().unstack().plot(kind='bar')\n"
   ]
  },
  {
   "cell_type": "code",
   "execution_count": 1,
   "metadata": {},
   "outputs": [],
   "source": [
    "#occ_plt = df_ted.groupby(['Occupation','popularity_class']).size().unstack().plot(kind='bar',figsize=(9,5))\n",
    "#plt.ylabel('Count')\n"
   ]
  },
  {
   "cell_type": "code",
   "execution_count": 15,
   "metadata": {},
   "outputs": [
    {
     "data": {
      "image/png": "[encoded data removed]",
      "text/plain": [
       "<Figure size 1080x504 with 1 Axes>"
      ]
     },
     "metadata": {
      "needs_background": "light"
     },
     "output_type": "display_data"
    }
   ],
   "source": [
    "temp = df_ted.groupby(['Occupation','popularity_class']).size()\n",
    "temp2 = temp.groupby(level=[0]).apply(lambda g: g*100 / g.sum())\n",
    "\n",
    "\n",
    "\n",
    "myPlot = temp2.unstack(1).plot(kind='bar', stacked = False, figsize=(15,7), grid=True,rot=0)\n",
    "plt.title('Occupation w.r.t Popularity Class')\n",
    "plt.xlabel('Occupation')\n",
    "plt.ylabel('Percentage')\n",
    "plt.legend(('0', '1', '2'), loc='best')\n",
    "plt.show()"
   ]
  },
  {
   "cell_type": "code",
   "execution_count": 79,
   "metadata": {},
   "outputs": [],
   "source": [
    "Academy_high=  df_ted.loc[(df_ted.Occupation == 'Literature') & (df_ted.popularity_class == 2)]['comments'].count()\n",
    "Academy_Medium =  df_ted.loc[(df_ted.Occupation == 'Literature') & (df_ted.popularity_class == 1)]['comments'].count()\n",
    "Academy_low =  df_ted.loc[(df_ted.Occupation == 'Literature') & (df_ted.popularity_class == 0)]['comments'].count()\n",
    "Atotal = Academy_high + Academy_Medium + Academy_low\n",
    "\n",
    "occ_dict = {'Academy':Academy_high, }"
   ]
  },
  {
   "cell_type": "code",
   "execution_count": 78,
   "metadata": {},
   "outputs": [
    {
     "data": {
      "text/plain": [
       "97"
      ]
     },
     "execution_count": 78,
     "metadata": {},
     "output_type": "execute_result"
    }
   ],
   "source": [
    "Academy_high =  df_ted.loc[(df_ted.Occupation == 'Literature') & (df_ted.popularity_class == 1)]['comments'].count()\n",
    "Academy_high"
   ]
  },
  {
   "cell_type": "code",
   "execution_count": 2,
   "metadata": {},
   "outputs": [
    {
     "data": {
      "image/png": "[encoded data removed]",
      "text/plain": [
       "<Figure size 432x288 with 1 Axes>"
      ]
     },
     "metadata": {
      "needs_background": "light"
     },
     "output_type": "display_data"
    }
   ],
   "source": [
    "#df_ted.info()\n",
    "#speaker_trend\n",
    "#tags_trend\n",
    "plt.scatter(df_ted['speaker_trend'], df_ted['popularity'])\n",
    "plt.xlabel('speaker_trend')\n",
    "plt.ylabel('popularity')\n",
    "plt.show()\n",
    "    "
   ]
  },
  {
   "cell_type": "code",
   "execution_count": null,
   "metadata": {},
   "outputs": [],
   "source": []
  },
  {
   "cell_type": "code",
   "execution_count": 3,
   "metadata": {},
   "outputs": [
    {
     "data": {
      "image/png": "[encoded data removed]",
      "text/plain": [
       "<Figure size 432x288 with 1 Axes>"
      ]
     },
     "metadata": {
      "needs_background": "light"
     },
     "output_type": "display_data"
    }
   ],
   "source": [
    "plt.scatter(df_ted['tags_trend'], df_ted['popularity'])\n",
    "plt.xlabel('tags_trend')\n",
    "plt.ylabel('popularity')\n",
    "plt.show()"
   ]
  },
  {
   "cell_type": "code",
   "execution_count": null,
   "metadata": {},
   "outputs": [],
   "source": [
    "#plt.bar.groupby(['popularity_class'])[feature2, feature3].mean().rename_axis(feature1).reset_index(feature1)"
   ]
  },
  {
   "cell_type": "code",
   "execution_count": 4,
   "metadata": {},
   "outputs": [
    {
     "data": {
      "text/plain": [
       "0.048565033804218845"
      ]
     },
     "execution_count": 4,
     "metadata": {},
     "output_type": "execute_result"
    }
   ],
   "source": [
    "df_ted['speaker_trend'].corr(df_ted['popularity'])"
   ]
  },
  {
   "cell_type": "code",
   "execution_count": 5,
   "metadata": {},
   "outputs": [
    {
     "data": {
      "text/plain": [
       "0.04833386084976522"
      ]
     },
     "execution_count": 5,
     "metadata": {},
     "output_type": "execute_result"
    }
   ],
   "source": [
    "df_ted['tags_trend'].corr(df_ted['popularity'])"
   ]
  },
  {
   "cell_type": "code",
   "execution_count": 6,
   "metadata": {},
   "outputs": [],
   "source": [
    "#df_ted.info()"
   ]
  },
  {
   "cell_type": "code",
   "execution_count": 7,
   "metadata": {},
   "outputs": [],
   "source": [
    "#  careate col random_popularity  with random values in range[0,2]\n",
    "df_ted['Random_popularity'] = 0\n",
    "import random\n",
    "#\n",
    "for i in range(2550):\n",
    "    p =random.randint(0,2)\n",
    "    df_ted.loc[i,'Random_popularity'] = p"
   ]
  },
  {
   "cell_type": "code",
   "execution_count": 8,
   "metadata": {},
   "outputs": [
    {
     "data": {
      "text/plain": [
       "0.33647058823529413"
      ]
     },
     "execution_count": 8,
     "metadata": {},
     "output_type": "execute_result"
    }
   ],
   "source": [
    "# first par series and second  par array\n",
    "import numpy as np\n",
    "from sklearn.metrics import precision_score\n",
    "x = df_ted['popularity_class']\n",
    "y = np.array(df_ted['Random_popularity'])\n",
    "#  compute precison of actual popularity class and Random  popularity           \n",
    "acc = precision_score(x,y, average= 'micro')\n",
    "acc"
   ]
  },
  {
   "cell_type": "code",
   "execution_count": 9,
   "metadata": {},
   "outputs": [
    {
     "data": {
      "text/plain": [
       "pandas.core.series.Series"
      ]
     },
     "execution_count": 9,
     "metadata": {},
     "output_type": "execute_result"
    }
   ],
   "source": [
    "type(df_ted['popularity_class'])"
   ]
  },
  {
   "cell_type": "code",
   "execution_count": 10,
   "metadata": {},
   "outputs": [
    {
     "data": {
      "text/plain": [
       "1    878\n",
       "0    851\n",
       "2    821\n",
       "Name: Random_popularity, dtype: int64"
      ]
     },
     "execution_count": 10,
     "metadata": {},
     "output_type": "execute_result"
    }
   ],
   "source": [
    "df_ted['Random_popularity'].value_counts()"
   ]
  },
  {
   "cell_type": "markdown",
   "metadata": {},
   "source": [
    "### Random Forest"
   ]
  },
  {
   "cell_type": "code",
   "execution_count": 63,
   "metadata": {},
   "outputs": [],
   "source": [
    "from sklearn.ensemble import RandomForestClassifier\n",
    "from sklearn.metrics import confusion_matrix\n",
    "from sklearn.metrics import accuracy_score, f1_score, classification_report, precision_score\n",
    "from sklearn.metrics import roc_curve, auc, roc_auc_score\n",
    "from sklearn.model_selection import train_test_split\n",
    "from sklearn import metrics\n",
    "from sklearn.metrics import make_scorer\n",
    "from sklearn.metrics import classification_report"
   ]
  },
  {
   "cell_type": "code",
   "execution_count": 64,
   "metadata": {},
   "outputs": [],
   "source": [
    "#df_ted.columns\n"
   ]
  },
  {
   "cell_type": "code",
   "execution_count": 134,
   "metadata": {},
   "outputs": [],
   "source": [
    "attributes = ['duration', 'languages', 'num_speaker', 'Literature', 'Art' ,'Economy_Politics', 'Medicine',\n",
    "             'Academy', 'Engineering_Science', 'Other_Occupations',\n",
    "             'speaker_trend', 'tags_trend', 'Monday', 'Tuesday', 'Wednesday', 'Thursday', 'Friday', 'Saturday','Sunday',\n",
    "              'funny_factor','TEDx', 'TED', 'TED_Global', 'TED_Other',\n",
    "       'Non_TED_University', 'Non_TED_Other']\n",
    "train_features = df_ted[attributes].values\n",
    "train_target = df_ted['popularity_class']\n",
    "# split train and test\n",
    "train_x, test_x, train_y, test_y = train_test_split(train_features, \n",
    "                                                    train_target, \n",
    "                                                    test_size=0.50, \n",
    "                                                    random_state=40,stratify=y)"
   ]
  },
  {
   "cell_type": "code",
   "execution_count": 135,
   "metadata": {},
   "outputs": [],
   "source": [
    "clf = RandomForestClassifier(n_estimators=10, \n",
    "                             criterion='gini',\n",
    "                             max_features=None,\n",
    "                             max_depth=30, \n",
    "                             min_samples_split=2,\n",
    "                             min_samples_leaf=5,\n",
    "                             bootstrap=True,\n",
    "                             oob_score=False,\n",
    "                             random_state=None,\n",
    "                             class_weight=None) "
   ]
  },
  {
   "cell_type": "code",
   "execution_count": 136,
   "metadata": {},
   "outputs": [],
   "source": [
    "# train the data\n",
    "classfier = clf.fit(train_x, train_y)"
   ]
  },
  {
   "cell_type": "code",
   "execution_count": 137,
   "metadata": {},
   "outputs": [],
   "source": [
    "# predict on train data\n",
    "prdict_train = classfier.predict(train_x)\n",
    "# predict on test data\n",
    "test_pred= classfier.predict(test_x)"
   ]
  },
  {
   "cell_type": "code",
   "execution_count": 138,
   "metadata": {},
   "outputs": [
    {
     "name": "stdout",
     "output_type": "stream",
     "text": [
      "precsion on train: 0.8282352941176471\n",
      "Test precsion: 0.5474509803921569\n"
     ]
    }
   ],
   "source": [
    "print ('precsion on train: {0}'.format(metrics.precision_score(train_y, prdict_train, average = 'micro')))\n",
    "print ('Test precsion: {0}'. format(metrics.precision_score(test_y, test_pred, average = 'micro')))"
   ]
  },
  {
   "cell_type": "markdown",
   "metadata": {},
   "source": [
    "### Hyper Par. "
   ]
  },
  {
   "cell_type": "code",
   "execution_count": 139,
   "metadata": {},
   "outputs": [],
   "source": [
    "from sklearn.model_selection import RandomizedSearchCV, GridSearchCV"
   ]
  },
  {
   "cell_type": "code",
   "execution_count": 140,
   "metadata": {},
   "outputs": [],
   "source": [
    "# creteria\n",
    "criterion = ['entropy','gini']\n",
    "# Number of trees in random forest\n",
    "n_estimators = [int(x) for x in (10,100,10)]\n",
    "# Number of features to consider at every split\n",
    "max_features = [None,'auto']\n",
    "# Maximum number of levels in tree\n",
    "max_depth = [int(x) for x in np.linspace(10, 110, num = 11)]\n",
    "max_depth.append(None)\n",
    "# Minimum number of samples to split a node\n",
    "min_samples_split = [2, 5, 10]\n",
    "# Minimum number of samples required at each leaf node\n",
    "min_samples_leaf = [1, 2, 4]\n",
    "# selecting samples for training each tree\n",
    "bootstrap = [True, False]"
   ]
  },
  {
   "cell_type": "code",
   "execution_count": 141,
   "metadata": {},
   "outputs": [],
   "source": [
    "random_grid = {'criterion': criterion ,'n_estimators': n_estimators,\n",
    "               'max_features': max_features,\n",
    "               'max_depth': max_depth,\n",
    "               'min_samples_split': min_samples_split,\n",
    "               'min_samples_leaf': min_samples_leaf,\n",
    "               'bootstrap': bootstrap}"
   ]
  },
  {
   "cell_type": "code",
   "execution_count": 142,
   "metadata": {},
   "outputs": [],
   "source": [
    "# instantiate RF object classfier\n",
    "clf_par = RandomForestClassifier()\n",
    "\n",
    "# Random search of parameters\n",
    "clf_random = RandomizedSearchCV(estimator = clf_par, param_distributions = random_grid, \n",
    "                                n_iter=10, cv = 10,iid=True, scoring='precision_macro')\n",
    "\n",
    "# fit the randomized search \n",
    "best_classfier = clf_random.fit(train_x, train_y)"
   ]
  },
  {
   "cell_type": "code",
   "execution_count": 143,
   "metadata": {},
   "outputs": [
    {
     "data": {
      "text/plain": [
       "{'n_estimators': 100,\n",
       " 'min_samples_split': 2,\n",
       " 'min_samples_leaf': 1,\n",
       " 'max_features': None,\n",
       " 'max_depth': 100,\n",
       " 'criterion': 'gini',\n",
       " 'bootstrap': True}"
      ]
     },
     "execution_count": 143,
     "metadata": {},
     "output_type": "execute_result"
    }
   ],
   "source": [
    "best_classfier.best_params_ "
   ]
  },
  {
   "cell_type": "code",
   "execution_count": 144,
   "metadata": {},
   "outputs": [],
   "source": [
    "#clf_random.cv_results_"
   ]
  },
  {
   "cell_type": "code",
   "execution_count": 145,
   "metadata": {},
   "outputs": [],
   "source": [
    "# a function return the top three model parameters \n",
    "def report(results, n_top=3):\n",
    "    for i in range(1, n_top + 1):\n",
    "        candidates = np.flatnonzero(results['rank_test_score'] == i)\n",
    "        for candidate in candidates:\n",
    "            print(\"Model with rank: {0}\".format(i))\n",
    "            print(\"Mean validation score: {0:.3f} (std: {1:.3f})\".format(\n",
    "                  results['mean_test_score'][candidate],\n",
    "                  results['std_test_score'][candidate]))\n",
    "            print(\"Parameters: {0}\".format(results['params'][candidate]))\n",
    "            print(\"\")"
   ]
  },
  {
   "cell_type": "code",
   "execution_count": 124,
   "metadata": {},
   "outputs": [
    {
     "name": "stdout",
     "output_type": "stream",
     "text": [
      "Model with rank: 1\n",
      "Mean validation score: 0.630 (std: 0.088)\n",
      "Parameters: {'n_estimators': 100, 'min_samples_split': 10, 'min_samples_leaf': 1, 'max_features': 'auto', 'max_depth': 110, 'criterion': 'entropy', 'bootstrap': False}\n",
      "\n",
      "Model with rank: 2\n",
      "Mean validation score: 0.629 (std: 0.076)\n",
      "Parameters: {'n_estimators': 100, 'min_samples_split': 10, 'min_samples_leaf': 2, 'max_features': 'auto', 'max_depth': 110, 'criterion': 'gini', 'bootstrap': False}\n",
      "\n",
      "Model with rank: 3\n",
      "Mean validation score: 0.618 (std: 0.075)\n",
      "Parameters: {'n_estimators': 100, 'min_samples_split': 10, 'min_samples_leaf': 2, 'max_features': None, 'max_depth': 50, 'criterion': 'entropy', 'bootstrap': True}\n",
      "\n"
     ]
    }
   ],
   "source": [
    "report(clf_random.cv_results_, 3) #search the top 3 best models\n"
   ]
  },
  {
   "cell_type": "code",
   "execution_count": 106,
   "metadata": {},
   "outputs": [
    {
     "name": "stdout",
     "output_type": "stream",
     "text": [
      "Train Precsion: 0.996078431372549\n",
      "Test precsion: 0.5681372549019608\n"
     ]
    }
   ],
   "source": [
    "# predict on test\n",
    "test_predictions = best_classfier.predict(test_x)\n",
    "# predict on train data\n",
    "train_pred= best_classfier.predict(train_x)\n",
    "print ('Train Precsion: {0}'.format(metrics.precision_score(train_y, train_pred, average = 'micro')))\n",
    "print ('Test precsion: {0}'. format(metrics.precision_score(test_y, test_predictions, average = 'micro')))\n",
    "#evaluate_precision()"
   ]
  },
  {
   "cell_type": "code",
   "execution_count": 107,
   "metadata": {},
   "outputs": [
    {
     "name": "stdout",
     "output_type": "stream",
     "text": [
      "              precision    recall  f1-score   support\n",
      "\n",
      "     class 0       0.61      0.63      0.62       681\n",
      "     class 1       0.44      0.46      0.45       674\n",
      "     calss 2       0.67      0.61      0.64       685\n",
      "\n",
      "    accuracy                           0.57      2040\n",
      "   macro avg       0.57      0.57      0.57      2040\n",
      "weighted avg       0.57      0.57      0.57      2040\n",
      "\n"
     ]
    }
   ],
   "source": [
    "print(classification_report(test_y, \n",
    "                            test_predictions, \n",
    "                            target_names=['class 0', 'class 1', 'calss 2']))"
   ]
  },
  {
   "cell_type": "markdown",
   "metadata": {},
   "source": [
    "### Feature Importance"
   ]
  },
  {
   "cell_type": "code",
   "execution_count": 108,
   "metadata": {},
   "outputs": [
    {
     "name": "stdout",
     "output_type": "stream",
     "text": [
      "('duration', 0.1835133922216586)\n",
      "('languages', 0.3291152490096412)\n",
      "('num_speaker', 0.005745428062423396)\n",
      "('Literature', 0.011384896349095832)\n",
      "('Art', 0.005637167193597547)\n",
      "('Economy_Politics', 0.018521302949366155)\n",
      "('Medicine', 0.0)\n",
      "('Academy', 0.0)\n",
      "('Engineering_Science', 0.009247826405911647)\n",
      "('Other_Occupations', 0.005812674379371336)\n",
      "('speaker_trend', 0.09009233510798895)\n",
      "('tags_trend', 0.09050184194257979)\n",
      "('Monday', 0.002440108561424889)\n",
      "('Tuesday', 0.013736065797864069)\n",
      "('Wednesday', 0.004311041970922305)\n",
      "('Thursday', 0.0010477612462966557)\n",
      "('Friday', 0.003546330979707182)\n",
      "('Saturday', 0.0)\n",
      "('Sunday', 0.0)\n",
      "('funny_factor', 0.19429805707115505)\n",
      "('TEDx', 0.005980311368143027)\n",
      "('TED', 0.011470560476498755)\n",
      "('TED_Global', 0.0074123600267904715)\n",
      "('TED_Other', 0.006185288879563331)\n",
      "('Non_TED_University', 0.0)\n",
      "('Non_TED_Other', 0.0)\n"
     ]
    }
   ],
   "source": [
    "# Model fitting and feature selection\n",
    "for feature in zip(attributes, clf.feature_importances_):\n",
    "    print(feature)"
   ]
  },
  {
   "cell_type": "markdown",
   "metadata": {},
   "source": [
    "### Model with Hyper_parm and features"
   ]
  },
  {
   "cell_type": "code",
   "execution_count": 129,
   "metadata": {},
   "outputs": [],
   "source": [
    "#att = ['duration', 'languages', 'speaker_trend','tags_trend','funny_factor'] # 0.57\n",
    "#att = ['languages']\n",
    "#att = ['duration','speaker_trend']\n",
    "train_features = df_ted[attributes].values\n",
    "train_target = df_ted['popularity_class']\n",
    "# split train and test\n",
    "train_x, test_x, train_y, test_y = train_test_split(train_features, \n",
    "                                                    train_target, \n",
    "                                                    test_size=0.5, \n",
    "                                                    random_state=40,stratify=y)"
   ]
  },
  {
   "cell_type": "code",
   "execution_count": 132,
   "metadata": {},
   "outputs": [
    {
     "name": "stdout",
     "output_type": "stream",
     "text": [
      "precsion on train: 0.9984313725490196\n",
      "Test precsion: 0.5576470588235294\n"
     ]
    }
   ],
   "source": [
    "clf_b = RandomForestClassifier(n_estimators=100, \n",
    "                             criterion='entropy',\n",
    "                             max_features= 'auto',\n",
    "                             max_depth=110, \n",
    "                             min_samples_split=10,\n",
    "                             min_samples_leaf=1,\n",
    "                             bootstrap=False)\n",
    "                            \n",
    "# train the data\n",
    "classfier = clf_b.fit(train_x, train_y)\n",
    "# predict on train data\n",
    "prdict_train = classfier.predict(train_x)\n",
    "# predict on test data\n",
    "test_pred= classfier.predict(test_x)\n",
    "print ('precsion on train: {0}'.format(metrics.precision_score(train_y, prdict_train, average = 'micro')))\n",
    "print ('Test precsion: {0}'. format(metrics.precision_score(test_y, test_pred, average = 'micro')))"
   ]
  },
  {
   "cell_type": "markdown",
   "metadata": {},
   "source": [
    "### Cross Val"
   ]
  },
  {
   "cell_type": "code",
   "execution_count": 133,
   "metadata": {},
   "outputs": [
    {
     "data": {
      "text/plain": [
       "array([0.56713559, 0.5521075 , 0.51513304, 0.47603289, 0.60537131,\n",
       "       0.56088092, 0.60283176, 0.52339286, 0.59124664, 0.5691584 ])"
      ]
     },
     "execution_count": 133,
     "metadata": {},
     "output_type": "execute_result"
    }
   ],
   "source": [
    "from sklearn.model_selection import cross_val_score\n",
    "from sklearn.metrics import accuracy_score, f1_score, classification_report\n",
    "#scores = cross_validation.cross_val_score(classfier, train_feature, train_target, cv=10)\n",
    "scores = cross_val_score(classfier, train_features, train_target, cv=10,scoring='precision_macro')\n",
    "scores"
   ]
  },
  {
   "cell_type": "code",
   "execution_count": null,
   "metadata": {},
   "outputs": [],
   "source": []
  }
 ],
 "metadata": {
  "kernelspec": {
   "display_name": "Python 3",
   "language": "python",
   "name": "python3"
  },
  "language_info": {
   "codemirror_mode": {
    "name": "ipython",
    "version": 3
   },
   "file_extension": ".py",
   "mimetype": "text/x-python",
   "name": "python",
   "nbconvert_exporter": "python",
   "pygments_lexer": "ipython3",
   "version": "3.7.4"
  }
 },
 "nbformat": 4,
 "nbformat_minor": 2
}
