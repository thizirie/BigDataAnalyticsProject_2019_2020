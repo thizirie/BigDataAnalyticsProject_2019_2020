{
 "cells": [
  {
   "cell_type": "code",
   "execution_count": 1,
   "metadata": {},
   "outputs": [],
   "source": [
    "import pandas as pd\n",
    "import re \n",
    "import json\n",
    "import ast"
   ]
  },
  {
   "cell_type": "code",
   "execution_count": 12,
   "metadata": {},
   "outputs": [],
   "source": [
    "# load ted.csv into a Datafarme\n",
    "df = pd.read_csv('ted_main_dummy_columns.csv')"
   ]
  },
  {
   "cell_type": "markdown",
   "metadata": {},
   "source": [
    "Convert a timestamp 'published_date' value into date object then convert the value to the corresponding weekday"
   ]
  },
  {
   "cell_type": "code",
   "execution_count": 13,
   "metadata": {},
   "outputs": [],
   "source": [
    "# Convert a timestamp 'published_date' value into date object then convert the value to the corresponding weekday\n",
    "from datetime import datetime\n",
    "import calendar \n",
    "df['Published_day'] = df['published_date'].apply(lambda x: datetime.fromtimestamp(x).strftime('%m/%d/%Y'))\n",
    "df['Pweek_day']= (pd.to_datetime(df['Published_day'])).apply(lambda d: calendar.day_name[d.weekday()])"
   ]
  },
  {
   "cell_type": "markdown",
   "metadata": {},
   "source": [
    "Creating new Columns fo each day of the week."
   ]
  },
  {
   "cell_type": "code",
   "execution_count": 15,
   "metadata": {},
   "outputs": [],
   "source": [
    "#creating new columns\n",
    "df['Monday']=0\n",
    "df['Tuesday']=0\n",
    "df['Wednesday']=0\n",
    "df['Thursday']=0\n",
    "df['Friday']=0\n",
    "df['Saturday']=0\n",
    "df['Sunday']=0"
   ]
  },
  {
   "cell_type": "markdown",
   "metadata": {},
   "source": [
    "setting 1 only in the right cell"
   ]
  },
  {
   "cell_type": "code",
   "execution_count": 16,
   "metadata": {},
   "outputs": [],
   "source": [
    "#setting 1 only in the right cell\n",
    "df.loc[df.Pweek_day == 'Monday', 'Monday'] = 1\n",
    "df.loc[df.Pweek_day == 'Tuesday', 'Tuesday'] = 1\n",
    "df.loc[df.Pweek_day == 'Wednesday', 'Wednesday'] = 1\n",
    "df.loc[df.Pweek_day == 'Thursday', 'Thursday'] = 1\n",
    "df.loc[df.Pweek_day == 'Friday', 'Friday'] = 1\n",
    "df.loc[df.Pweek_day == 'Saturday', 'Saturday'] = 1\n",
    "df.loc[df.Pweek_day == 'Sunday', 'Sunday'] = 1"
   ]
  },
  {
   "cell_type": "markdown",
   "metadata": {},
   "source": [
    "drop Pweek_day column"
   ]
  },
  {
   "cell_type": "code",
   "execution_count": 17,
   "metadata": {},
   "outputs": [],
   "source": [
    "#drop Pweek_day column\n",
    "df.drop(['Pweek_day'], axis=1, inplace=True)"
   ]
  },
  {
   "cell_type": "code",
   "execution_count": 19,
   "metadata": {},
   "outputs": [],
   "source": [
    "df.to_csv(\"ted_main_dummy_columns.csv\")"
   ]
  }
 ],
 "metadata": {
  "kernelspec": {
   "display_name": "Python 3",
   "language": "python",
   "name": "python3"
  },
  "language_info": {
   "codemirror_mode": {
    "name": "ipython",
    "version": 3
   },
   "file_extension": ".py",
   "mimetype": "text/x-python",
   "name": "python",
   "nbconvert_exporter": "python",
   "pygments_lexer": "ipython3",
   "version": "3.7.3"
  }
 },
 "nbformat": 4,
 "nbformat_minor": 2
}
