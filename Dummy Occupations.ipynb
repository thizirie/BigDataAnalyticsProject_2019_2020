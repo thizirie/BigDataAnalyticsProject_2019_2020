{
 "cells": [
  {
   "cell_type": "code",
   "execution_count": 1,
   "metadata": {},
   "outputs": [],
   "source": [
    "%matplotlib inline\n",
    "import numpy as np\n",
    "import pandas as pd \n",
    "import scipy as sp\n",
    "import sklearn as sk # data mining tools\n",
    "import matplotlib.pylab as plt # plotting\n",
    "import seaborn as sns # advanced plotting\n",
    "import ast\n",
    "import collections\n",
    "import re \n",
    "import six\n",
    "from sklearn.preprocessing import MinMaxScaler\n",
    "pd.options.display.max_colwidth = 100\n",
    "pd.options.mode.chained_assignment = None"
   ]
  },
  {
   "cell_type": "markdown",
   "metadata": {},
   "source": [
    "Importing main dataset"
   ]
  },
  {
   "cell_type": "code",
   "execution_count": 2,
   "metadata": {},
   "outputs": [],
   "source": [
    "df = pd.read_csv('ted_main.csv')"
   ]
  },
  {
   "cell_type": "markdown",
   "metadata": {},
   "source": [
    "Filling missing values of occupations with the mode."
   ]
  },
  {
   "cell_type": "code",
   "execution_count": 3,
   "metadata": {},
   "outputs": [],
   "source": [
    "df['speaker_occupation'].fillna(df['speaker_occupation'].mode()[0], inplace = True)\n",
    "###Since only 6 of them are missing, we can try to look for \n",
    "###the information by ourselves and add them to the data we have.\n",
    "#df.replace({'speaker_occupation': {na: 'Water Data/Risk Wrangler'}})"
   ]
  },
  {
   "cell_type": "markdown",
   "metadata": {},
   "source": [
    "Creating new columns for each category of jobs"
   ]
  },
  {
   "cell_type": "code",
   "execution_count": 8,
   "metadata": {},
   "outputs": [],
   "source": [
    "df['Literature'] = 0"
   ]
  },
  {
   "cell_type": "code",
   "execution_count": 12,
   "metadata": {},
   "outputs": [],
   "source": [
    "df['Art'] = 0"
   ]
  },
  {
   "cell_type": "code",
   "execution_count": 22,
   "metadata": {},
   "outputs": [],
   "source": [
    "df['Economy_Politics'] = 0"
   ]
  },
  {
   "cell_type": "code",
   "execution_count": 28,
   "metadata": {},
   "outputs": [],
   "source": [
    "df['Medicine'] = 0"
   ]
  },
  {
   "cell_type": "code",
   "execution_count": 35,
   "metadata": {},
   "outputs": [],
   "source": [
    "df['Academy'] = 0"
   ]
  },
  {
   "cell_type": "code",
   "execution_count": 44,
   "metadata": {},
   "outputs": [],
   "source": [
    "df['Engineering_Science'] = 0"
   ]
  },
  {
   "cell_type": "code",
   "execution_count": 261,
   "metadata": {},
   "outputs": [],
   "source": [
    "df['Other_Occupations'] = 0"
   ]
  },
  {
   "cell_type": "markdown",
   "metadata": {},
   "source": [
    "Setting the categories for the most frequent jobs"
   ]
  },
  {
   "cell_type": "code",
   "execution_count": 95,
   "metadata": {},
   "outputs": [],
   "source": [
    "df.loc[(df.speaker_occupation == \"Writer\"), 'Literature'] = 1\n",
    "df.loc[(df.speaker_occupation == \"Journalist\"), 'Literature'] = 1\n",
    "df.loc[(df.speaker_occupation == \"Author\"), 'Literature'] = 1\n",
    "df.loc[(df.speaker_occupation == \"Philosopher\"), 'Literature'] = 1\n",
    "df.loc[(df.speaker_occupation == \"Historian\"), 'Literature'] = 1\n",
    "df.loc[(df.speaker_occupation == \"Poet\"), 'Literature'] = 1\n",
    "df.loc[(df.speaker_occupation == \"Novelist\"), 'Literature'] = 1\n",
    "df.loc[(df.speaker_occupation == \"Reporter\"), 'Literature'] = 1\n",
    "df.loc[(df.speaker_occupation == \"Writer, activist\"), 'Literature'] = 1\n",
    "df.loc[(df.speaker_occupation == \"Performance poet, multimedia artist\"), 'Literature'] = 1\n",
    "df.loc[(df.speaker_occupation == \"Science writer\"), 'Literature'] = 1\n",
    "\n",
    "df.loc[(df.speaker_occupation == \"Designer\"), 'Art'] = 1\n",
    "df.loc[(df.speaker_occupation == \"Chef\"), 'Art'] = 1\n",
    "df.loc[(df.speaker_occupation == \"Violinist\"), 'Art'] = 1\n",
    "df.loc[(df.speaker_occupation == \"Producer\"), 'Art'] = 1\n",
    "df.loc[(df.speaker_occupation == \"Cartoonist\"), 'Art'] = 1\n",
    "df.loc[(df.speaker_occupation == \"Performance poet, multimedia artist\"), 'Art'] = 1\n",
    "df.loc[(df.speaker_occupation == \"Photojournalist\"), 'Art'] = 1\n",
    "df.loc[(df.speaker_occupation == \"Singer-songwriter\"), 'Art'] = 1\n",
    "df.loc[(df.speaker_occupation == \"Artist\"), 'Art'] = 1\n",
    "df.loc[(df.speaker_occupation == \"Architect\"), 'Art'] = 1\n",
    "df.loc[(df.speaker_occupation == \"Photographer\"), 'Art'] = 1\n",
    "df.loc[(df.speaker_occupation == \"Filmmaker\"), 'Art'] = 1\n",
    "df.loc[(df.speaker_occupation == \"Musician\"), 'Art'] = 1\n",
    "df.loc[(df.speaker_occupation == \"Singer/songwriter\"), 'Art'] = 1\n",
    "df.loc[(df.speaker_occupation == \"Graphic designer\"), 'Art'] = 1\n",
    "df.loc[(df.speaker_occupation == \"Techno-illusionist\"), 'Art'] = 1\n",
    "df.loc[(df.speaker_occupation == \"Comedian\"), 'Art'] = 1\n",
    "df.loc[(df.speaker_occupation == \"Musician, activist\"), 'Art'] = 1\n",
    "df.loc[(df.speaker_occupation == \"Sculptor\"), 'Art'] = 1\n",
    "\n",
    "df.loc[(df.speaker_occupation == \"Entrepreneur\"), 'Economy_Politics'] = 1\n",
    "df.loc[(df.speaker_occupation == \"Environmentalist, futurist\"), 'Economy_Politics'] = 1\n",
    "df.loc[(df.speaker_occupation == \"Investor and advocate for moral leadership\"), 'Economy_Politics'] = 1\n",
    "df.loc[(df.speaker_occupation == \"Musician, activist\"), 'Economy_Politics'] = 1\n",
    "df.loc[(df.speaker_occupation == \"Economist\"), 'Economy_Politics'] = 1\n",
    "df.loc[(df.speaker_occupation == \"Activist\"), 'Economy_Politics'] = 1\n",
    "df.loc[(df.speaker_occupation == \"Philanthropist\"), 'Economy_Politics'] = 1\n",
    "df.loc[(df.speaker_occupation == \"Behavioral economist\"), 'Economy_Politics'] = 1\n",
    "df.loc[(df.speaker_occupation == \"Writer, activist\"), 'Economy_Politics'] = 1\n",
    "df.loc[(df.speaker_occupation == \"Climate advocate\"), 'Economy_Politics'] = 1\n",
    "df.loc[(df.speaker_occupation == \"Legal activist\"), 'Economy_Politics'] = 1\n",
    "df.loc[(df.speaker_occupation == \"Futurist\"), 'Economy_Politics'] = 1\n",
    "df.loc[(df.speaker_occupation == \"Social entrepreneur\"), 'Economy_Politics'] = 1\n",
    "\n",
    "df.loc[(df.speaker_occupation == \"Psychologist\"), 'Medicine'] = 1\n",
    "df.loc[(df.speaker_occupation == \"Neuroscientist\"), 'Medicine'] = 1\n",
    "df.loc[(df.speaker_occupation == \"Global health expert; data visionary\"), 'Medicine'] = 1\n",
    "df.loc[(df.speaker_occupation == \"Social psychologist\"), 'Medicine'] = 1\n",
    "df.loc[(df.speaker_occupation == \"Surgeon\"), 'Medicine'] = 1\n",
    "df.loc[(df.speaker_occupation == \"Physician\"), 'Medicine'] = 1\n",
    "\n",
    "df.loc[(df.speaker_occupation == \"Educator\"), 'Academy'] = 1\n",
    "\n",
    "df.loc[(df.speaker_occupation == \"Roboticist\"), 'Engineering_Science'] = 1\n",
    "df.loc[(df.speaker_occupation == \"Biologist\"), 'Engineering_Science'] = 1\n",
    "df.loc[(df.speaker_occupation == \"Physicist\"), 'Engineering_Science'] = 1\n",
    "df.loc[(df.speaker_occupation == \"Marine biologist\"), 'Engineering_Science'] = 1\n",
    "df.loc[(df.speaker_occupation == \"Technologist\"), 'Engineering_Science'] = 1\n",
    "df.loc[(df.speaker_occupation == \"Global health expert; data visionary\"), 'Engineering_Science'] = 1\n",
    "df.loc[(df.speaker_occupation == \"Astronomer\"), 'Engineering_Science'] = 1\n",
    "df.loc[(df.speaker_occupation == \"Oceanographer\"), 'Engineering_Science'] = 1\n",
    "df.loc[(df.speaker_occupation == \"Engineer\"), 'Engineering_Science'] = 1\n",
    "df.loc[(df.speaker_occupation == \"Computer scientist\"), 'Engineering_Science'] = 1\n",
    "df.loc[(df.speaker_occupation == \"Inventor\"), 'Engineering_Science'] = 1\n",
    "df.loc[(df.speaker_occupation == \"Futurist\"), 'Engineering_Science'] = 1\n",
    "df.loc[(df.speaker_occupation == \"Mathematician\"), 'Engineering_Science'] = 1\n",
    "df.loc[(df.speaker_occupation == \"Astrophysicist\"), 'Engineering_Science'] = 1\n",
    "df.loc[(df.speaker_occupation == \"Evolutionary biologist\"), 'Engineering_Science'] = 1\n",
    "df.loc[(df.speaker_occupation == \"Sound consultant\"), 'Engineering_Science'] = 1\n",
    "df.loc[(df.speaker_occupation == \"Game designer\"), 'Engineering_Science'] = 1\n",
    "df.loc[(df.speaker_occupation == \"Chemist\"), 'Engineering_Science'] = 1\n",
    "df.loc[(df.speaker_occupation == \"Social Media Theorist\"), 'Engineering_Science'] = 1\n",
    "df.loc[(df.speaker_occupation == \"Data scientist\"), 'Engineering_Science'] = 1\n",
    "df.loc[(df.speaker_occupation == \"Tech visionary\"), 'Engineering_Science'] = 1\n",
    "df.loc[(df.speaker_occupation == \"Paleontologist\"), 'Engineering_Science'] = 1\n",
    "df.loc[(df.speaker_occupation == \"Researcher\"), 'Engineering_Science'] = 1"
   ]
  },
  {
   "cell_type": "markdown",
   "metadata": {},
   "source": [
    "creating a new dataframe for having other occupations.\n",
    "Used to see what jobs are not categorized yet."
   ]
  },
  {
   "cell_type": "code",
   "execution_count": 257,
   "metadata": {},
   "outputs": [
    {
     "data": {
      "text/html": [
       "<div>\n",
       "<style scoped>\n",
       "    .dataframe tbody tr th:only-of-type {\n",
       "        vertical-align: middle;\n",
       "    }\n",
       "\n",
       "    .dataframe tbody tr th {\n",
       "        vertical-align: top;\n",
       "    }\n",
       "\n",
       "    .dataframe thead th {\n",
       "        text-align: right;\n",
       "    }\n",
       "</style>\n",
       "<table border=\"1\" class=\"dataframe\">\n",
       "  <thead>\n",
       "    <tr style=\"text-align: right;\">\n",
       "      <th></th>\n",
       "      <th>speaker_occupation</th>\n",
       "      <th>Engineering_Science</th>\n",
       "    </tr>\n",
       "  </thead>\n",
       "  <tbody>\n",
       "    <tr>\n",
       "      <th>32</th>\n",
       "      <td>Crusader against aging</td>\n",
       "      <td>0</td>\n",
       "    </tr>\n",
       "    <tr>\n",
       "      <th>43</th>\n",
       "      <td>Skeptic</td>\n",
       "      <td>0</td>\n",
       "    </tr>\n",
       "    <tr>\n",
       "      <th>47</th>\n",
       "      <td>Marketer, success analyst</td>\n",
       "      <td>0</td>\n",
       "    </tr>\n",
       "  </tbody>\n",
       "</table>\n",
       "</div>"
      ],
      "text/plain": [
       "           speaker_occupation  Engineering_Science\n",
       "32     Crusader against aging                    0\n",
       "43                    Skeptic                    0\n",
       "47  Marketer, success analyst                    0"
      ]
     },
     "execution_count": 257,
     "metadata": {},
     "output_type": "execute_result"
    }
   ],
   "source": [
    "occ_df = df[((df.Literature != 1) & (df.Art != 1)& (df.Economy_Politics != 1)\\\n",
    "                      & (df.Medicine != 1)& (df.Academy != 1)& (df.Engineering_Science != 1))]"
   ]
  },
  {
   "cell_type": "markdown",
   "metadata": {},
   "source": [
    "Dictionary of keywords of occupations to use in the next function"
   ]
  },
  {
   "cell_type": "code",
   "execution_count": 256,
   "metadata": {},
   "outputs": [],
   "source": [
    "dictionary = {\"Author\":\"Literature\",\"Actor\":\"Art\", \"researcher\":\"Engineering_Science\",\n",
    "             \"Historian\":\"Literature\", \"Philosopher\": \"Literature\", \"Activist\":\"Economy_Politics\" , \"Robotics\":\"Engineering_Science\",\n",
    "             \"engineer\":\"Engineering_Science\", \"composer\":\"Art\", \"Pianist\":\"Art\", \"Marketing\":\"Economy_Politics\",\n",
    "             \"Public\":\"Economy_Politics\", \"fund\":\"Economy_Politics\" , \"psycho\":\"Medicine\", \"logist\":\"Engineering_Science\",\n",
    "             \"computer\":\"Engineering_Science\", \"writer\":\"Literature\", \"expert\":\"Engineering_Science\", \"Industrial\":\"Engineering_Science\",\n",
    "             \"artist\":\"Art\",\"scientist\":\"Engineering_Science\", \"founder\":\"Economy_Politics\", \"specialist\":'Engineering_Science',\"music\":\"Art\",\n",
    "             \"design\":\"Art\", \"physicist\":\"Engineering_Science\", \"educat\":\"Academy\", \"Mayor\":\"Economy_Politics\", \"President\":\"Economy_Politics\",\n",
    "             \"art\":\"Art\", \"bio\":\"Engineering_Science\", \"tech\":\"Engineering_Science\", \"professor\":\"Academy\", \"math\":\"Engineering_Science\",\n",
    "             \"cyber\":\"Engineering_Science\", \"capital\":\"Economy_Politics\", \"digit\":\"Engineering_Science\", \"entrepreneur\":\"Economy_Politics\",\n",
    "             \"religi\":\"Economy_Politics\", \"genetic\":\"Engineering_Science\", \"futur\":\"Economy_Politics\", \"explorer\":\"Economy_Politics\", \n",
    "             \"journ\":\"Literature\", \"law\":\"Economy_Politics\", \"Global\":\"Economy_Politics\", \"advocate\":\"Economy_Politics\", \"company\":\"Economy_Politics\",\n",
    "             \"story\":\"Literature\", \"novel\":\"Literature\", \"band\":\"Art\", \"photo\":\"Art\", \"arch\":\"Art\", \"chem\":\"Engineering_Science\", \"care\":\"Medicine\",\n",
    "             \"visual\":\"Art\", \"innov\":\"Engineering_Science\", \"analy\":\"Engineering_Science\"}"
   ]
  },
  {
   "cell_type": "markdown",
   "metadata": {},
   "source": [
    "A function to automatically assign each job with specific keyword to the corresponding category."
   ]
  },
  {
   "cell_type": "code",
   "execution_count": 259,
   "metadata": {},
   "outputs": [],
   "source": [
    "for keys in dictionary.keys():\n",
    "    for index, row in occ_df.iterrows():\n",
    "        myString = occ_df['speaker_occupation'][index].lower()\n",
    "        if (myString.find(keys.lower()) > -1):\n",
    "            (df.loc[(index, dictionary[keys])]) = 1"
   ]
  },
  {
   "cell_type": "markdown",
   "metadata": {},
   "source": [
    "Assigning remaining occupations to the other group."
   ]
  },
  {
   "cell_type": "code",
   "execution_count": null,
   "metadata": {},
   "outputs": [],
   "source": [
    "df['Other_Occupations'][((df.Literature != 1) & (df.Art != 1)& (df.Economy_Politics != 1)\\\n",
    "                      & (df.Medicine != 1)& (df.Academy != 1)& (df.Engineering_Science != 1))] = 1"
   ]
  },
  {
   "cell_type": "markdown",
   "metadata": {},
   "source": [
    "Exporting our dataframe to a new csv file."
   ]
  },
  {
   "cell_type": "code",
   "execution_count": null,
   "metadata": {},
   "outputs": [],
   "source": [
    "df.to_csv(\"main_dataset_occupations.csv\")"
   ]
  }
 ],
 "metadata": {
  "kernelspec": {
   "display_name": "Python 3",
   "language": "python",
   "name": "python3"
  },
  "language_info": {
   "codemirror_mode": {
    "name": "ipython",
    "version": 3
   },
   "file_extension": ".py",
   "mimetype": "text/x-python",
   "name": "python",
   "nbconvert_exporter": "python",
   "pygments_lexer": "ipython3",
   "version": "3.7.3"
  }
 },
 "nbformat": 4,
 "nbformat_minor": 2
}
