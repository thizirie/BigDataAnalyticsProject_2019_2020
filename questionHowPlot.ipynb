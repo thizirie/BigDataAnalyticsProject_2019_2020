{
 "cells": [
  {
   "cell_type": "code",
   "execution_count": 1,
   "metadata": {},
   "outputs": [],
   "source": [
    "%matplotlib inline\n",
    "import numpy as np\n",
    "import pandas as pd \n",
    "import scipy as sp\n",
    "import sklearn as sk # data mining tools\n",
    "import matplotlib.pylab as plt # plotting\n",
    "import seaborn as sns # advanced plotting\n",
    "import ast\n",
    "import collections\n",
    "import re \n",
    "import six\n",
    "import seaborn as sns\n",
    "from sklearn.preprocessing import MinMaxScaler\n",
    "pd.options.display.max_colwidth = 100\n",
    "pd.options.mode.chained_assignment = None"
   ]
  },
  {
   "cell_type": "code",
   "execution_count": 2,
   "metadata": {},
   "outputs": [],
   "source": [
    "df = pd.read_csv('ted_main_dummy_columns.csv')"
   ]
  },
  {
   "cell_type": "code",
   "execution_count": 3,
   "metadata": {},
   "outputs": [
    {
     "name": "stdout",
     "output_type": "stream",
     "text": [
      "<class 'pandas.core.frame.DataFrame'>\n",
      "RangeIndex: 2550 entries, 0 to 2549\n",
      "Data columns (total 47 columns):\n",
      "comments               2550 non-null int64\n",
      "description            2550 non-null object\n",
      "duration               2550 non-null int64\n",
      "event                  2550 non-null object\n",
      "film_date              2550 non-null int64\n",
      "languages              2550 non-null int64\n",
      "main_speaker           2550 non-null object\n",
      "name                   2550 non-null object\n",
      "num_speaker            2550 non-null int64\n",
      "published_date         2550 non-null int64\n",
      "ratings                2550 non-null object\n",
      "related_talks          2550 non-null object\n",
      "speaker_occupation     2550 non-null object\n",
      "tags                   2550 non-null object\n",
      "title                  2550 non-null object\n",
      "url                    2550 non-null object\n",
      "views                  2550 non-null int64\n",
      "Literature             2550 non-null int64\n",
      "Art                    2550 non-null int64\n",
      "Economy_Politics       2550 non-null int64\n",
      "Medicine               2550 non-null int64\n",
      "Academy                2550 non-null int64\n",
      "Engineering_Science    2550 non-null int64\n",
      "Other_Occupations      2550 non-null int64\n",
      "positive_ratings       2550 non-null float64\n",
      "negative_ratings       2550 non-null float64\n",
      "neutral_ratings        2550 non-null int64\n",
      "speaker_trend          2550 non-null float64\n",
      "tags_trend             2550 non-null float64\n",
      "Published_day          2550 non-null object\n",
      "Monday                 2550 non-null int64\n",
      "Tuesday                2550 non-null int64\n",
      "Wednesday              2550 non-null int64\n",
      "Thursday               2550 non-null int64\n",
      "Friday                 2550 non-null int64\n",
      "Saturday               2550 non-null int64\n",
      "Sunday                 2550 non-null int64\n",
      "ratings_count          2550 non-null int64\n",
      "popularity             2550 non-null float64\n",
      "funny_factor           2550 non-null float64\n",
      "popularity_class       2550 non-null int64\n",
      "TEDx                   2550 non-null int64\n",
      "TED                    2550 non-null int64\n",
      "TED_Global             2550 non-null int64\n",
      "TED_Other              2550 non-null int64\n",
      "Non_TED_University     2550 non-null int64\n",
      "Non_TED_Other          2550 non-null int64\n",
      "dtypes: float64(6), int64(30), object(11)\n",
      "memory usage: 936.5+ KB\n"
     ]
    }
   ],
   "source": [
    "df.info()"
   ]
  },
  {
   "cell_type": "code",
   "execution_count": 4,
   "metadata": {},
   "outputs": [],
   "source": [
    "df['question']=0\n",
    "for i in range (0,len(df)):\n",
    "    if ((\"?\") in df.loc[(i,'title')]):\n",
    "        df.loc[(i,'question')] = 1\n",
    "    else:\n",
    "        df.loc[(i,'question')] = 0"
   ]
  },
  {
   "cell_type": "code",
   "execution_count": 4,
   "metadata": {},
   "outputs": [],
   "source": [
    "df['how']=0\n",
    "for i in range (0,len(df)):\n",
    "    if ((\"how\") in df.loc[(i,'title')]):\n",
    "        df.loc[(i,'how')] = 1\n",
    "    else:\n",
    "        df.loc[(i,'how')] = 0\n",
    "for i in range (0,len(df)):\n",
    "    if ((\"How\") in df.loc[(i,'title')]):\n",
    "        df.loc[(i,'how')] = 1\n",
    "    else:\n",
    "        df.loc[(i,'how')] = 0"
   ]
  },
  {
   "cell_type": "code",
   "execution_count": null,
   "metadata": {},
   "outputs": [],
   "source": [
    "df.to_csv('ted_main_question_how_added.csv')"
   ]
  },
  {
   "cell_type": "code",
   "execution_count": 7,
   "metadata": {
    "scrolled": true
   },
   "outputs": [
    {
     "name": "stdout",
     "output_type": "stream",
     "text": [
      "question  popularity_class\n",
      "0         0                   34.415030\n",
      "          1                   33.347566\n",
      "          2                   32.237404\n",
      "1         0                   21.153846\n",
      "          1                   33.173077\n",
      "          2                   45.673077\n",
      "dtype: float64\n"
     ]
    }
   ],
   "source": [
    "temp = df.groupby(['question','popularity_class']).size()\n",
    "temp2=temp.groupby(level=[0]).apply(lambda g : g*100/g.sum())\n",
    "print (temp2)\n"
   ]
  },
  {
   "cell_type": "code",
   "execution_count": 12,
   "metadata": {},
   "outputs": [
    {
     "data": {
      "image/png": "[encoded data removed]",
      "text/plain": [
       "<Figure size 648x504 with 1 Axes>"
      ]
     },
     "metadata": {
      "needs_background": "light"
     },
     "output_type": "display_data"
    }
   ],
   "source": [
    "myPlot = temp2.unstack(1).plot(kind='bar',stacked=False, figsize=(9,7),grid =True,rot=0)\n",
    "plt.title(\"Title is a question w.r.t. Popularity class\")\n",
    "plt.ylabel('Percentage')\n",
    "plt.show()"
   ]
  },
  {
   "cell_type": "code",
   "execution_count": 9,
   "metadata": {},
   "outputs": [
    {
     "data": {
      "image/png": "[encoded data removed]",
      "text/plain": [
       "<Figure size 432x288 with 1 Axes>"
      ]
     },
     "metadata": {
      "needs_background": "light"
     },
     "output_type": "display_data"
    }
   ],
   "source": [
    "\n",
    "sns.countplot(x='question', hue=\"popularity_class\", data=df);"
   ]
  },
  {
   "cell_type": "code",
   "execution_count": 13,
   "metadata": {},
   "outputs": [
    {
     "name": "stdout",
     "output_type": "stream",
     "text": [
      "how  popularity_class\n",
      "0    0                   32.946429\n",
      "     1                   33.214286\n",
      "     2                   33.839286\n",
      "1    0                   36.129032\n",
      "     1                   34.193548\n",
      "     2                   29.677419\n",
      "dtype: float64\n"
     ]
    }
   ],
   "source": [
    "temp = df.groupby(['how','popularity_class']).size()\n",
    "temp2=temp.groupby(level=[0]).apply(lambda g : g*100/g.sum())\n",
    "print (temp2)\n"
   ]
  },
  {
   "cell_type": "code",
   "execution_count": 14,
   "metadata": {},
   "outputs": [
    {
     "data": {
      "image/png": "[encoded data removed]",
      "text/plain": [
       "<Figure size 648x504 with 1 Axes>"
      ]
     },
     "metadata": {
      "needs_background": "light"
     },
     "output_type": "display_data"
    }
   ],
   "source": [
    "myPlot = temp2.unstack(1).plot(kind='bar',stacked=False, figsize=(9,7),grid =True,rot=0)\n",
    "plt.title(\"Title contains \\\"how\\\" w.r.t. Popularity class\")\n",
    "plt.ylabel('Percentage')\n",
    "plt.show()"
   ]
  },
  {
   "cell_type": "code",
   "execution_count": null,
   "metadata": {},
   "outputs": [],
   "source": [
    "sns.countplot(x='how', hue=\"popularity_class\", data=df);"
   ]
  },
  {
   "cell_type": "markdown",
   "metadata": {},
   "source": [
    "## Treating tags vs popularity"
   ]
  },
  {
   "cell_type": "code",
   "execution_count": 5,
   "metadata": {},
   "outputs": [],
   "source": [
    "tag_dict={}\n",
    "#explore column by index\n",
    "for i in range (0,2550):\n",
    "    #transform list of tags in actual list\n",
    "    lista=eval(df.loc[i]['tags'])\n",
    "    #explore every tag in the list\n",
    "    for t in lista:\n",
    "        #check whether the tag exist in the dict\n",
    "        if not t in tag_dict:\n",
    "        #put 0 in both three columns of pop\n",
    "            tag_dict[t]=[0,0,0]\n",
    "        #count +1 the pop\n",
    "        tag_dict[t][(df.loc[i]['popularity_class'])]+=1\n",
    "    "
   ]
  },
  {
   "cell_type": "code",
   "execution_count": 6,
   "metadata": {},
   "outputs": [],
   "source": [
    "df_tags=pd.DataFrame.from_dict(tag_dict, orient='index')"
   ]
  },
  {
   "cell_type": "code",
   "execution_count": 7,
   "metadata": {},
   "outputs": [],
   "source": [
    "#since first column doesn't have name, add it later\n",
    "tags=list(tag_dict.keys())\n",
    "df_tags.insert(0, \"tags\",tags,  True) "
   ]
  },
  {
   "cell_type": "code",
   "execution_count": 10,
   "metadata": {},
   "outputs": [
    {
     "data": {
      "text/html": [
       "<div>\n",
       "<style scoped>\n",
       "    .dataframe tbody tr th:only-of-type {\n",
       "        vertical-align: middle;\n",
       "    }\n",
       "\n",
       "    .dataframe tbody tr th {\n",
       "        vertical-align: top;\n",
       "    }\n",
       "\n",
       "    .dataframe thead th {\n",
       "        text-align: right;\n",
       "    }\n",
       "</style>\n",
       "<table border=\"1\" class=\"dataframe\">\n",
       "  <thead>\n",
       "    <tr style=\"text-align: right;\">\n",
       "      <th></th>\n",
       "      <th>tags</th>\n",
       "      <th>0</th>\n",
       "      <th>1</th>\n",
       "      <th>2</th>\n",
       "    </tr>\n",
       "  </thead>\n",
       "  <tbody>\n",
       "    <tr>\n",
       "      <td>culture</td>\n",
       "      <td>culture</td>\n",
       "      <td>108</td>\n",
       "      <td>134</td>\n",
       "      <td>244</td>\n",
       "    </tr>\n",
       "    <tr>\n",
       "      <td>technology</td>\n",
       "      <td>technology</td>\n",
       "      <td>250</td>\n",
       "      <td>263</td>\n",
       "      <td>214</td>\n",
       "    </tr>\n",
       "    <tr>\n",
       "      <td>science</td>\n",
       "      <td>science</td>\n",
       "      <td>201</td>\n",
       "      <td>179</td>\n",
       "      <td>187</td>\n",
       "    </tr>\n",
       "    <tr>\n",
       "      <td>global issues</td>\n",
       "      <td>global issues</td>\n",
       "      <td>174</td>\n",
       "      <td>173</td>\n",
       "      <td>154</td>\n",
       "    </tr>\n",
       "    <tr>\n",
       "      <td>business</td>\n",
       "      <td>business</td>\n",
       "      <td>85</td>\n",
       "      <td>123</td>\n",
       "      <td>140</td>\n",
       "    </tr>\n",
       "    <tr>\n",
       "      <td>TEDx</td>\n",
       "      <td>TEDx</td>\n",
       "      <td>176</td>\n",
       "      <td>138</td>\n",
       "      <td>136</td>\n",
       "    </tr>\n",
       "    <tr>\n",
       "      <td>design</td>\n",
       "      <td>design</td>\n",
       "      <td>163</td>\n",
       "      <td>151</td>\n",
       "      <td>104</td>\n",
       "    </tr>\n",
       "    <tr>\n",
       "      <td>entertainment</td>\n",
       "      <td>entertainment</td>\n",
       "      <td>110</td>\n",
       "      <td>86</td>\n",
       "      <td>103</td>\n",
       "    </tr>\n",
       "    <tr>\n",
       "      <td>brain</td>\n",
       "      <td>brain</td>\n",
       "      <td>24</td>\n",
       "      <td>42</td>\n",
       "      <td>92</td>\n",
       "    </tr>\n",
       "    <tr>\n",
       "      <td>psychology</td>\n",
       "      <td>psychology</td>\n",
       "      <td>15</td>\n",
       "      <td>25</td>\n",
       "      <td>82</td>\n",
       "    </tr>\n",
       "  </tbody>\n",
       "</table>\n",
       "</div>"
      ],
      "text/plain": [
       "                        tags    0    1    2\n",
       "culture              culture  108  134  244\n",
       "technology        technology  250  263  214\n",
       "science              science  201  179  187\n",
       "global issues  global issues  174  173  154\n",
       "business            business   85  123  140\n",
       "TEDx                    TEDx  176  138  136\n",
       "design                design  163  151  104\n",
       "entertainment  entertainment  110   86  103\n",
       "brain                  brain   24   42   92\n",
       "psychology        psychology   15   25   82"
      ]
     },
     "execution_count": 10,
     "metadata": {},
     "output_type": "execute_result"
    }
   ],
   "source": [
    "df_tags.head(10)"
   ]
  },
  {
   "cell_type": "code",
   "execution_count": 9,
   "metadata": {},
   "outputs": [],
   "source": [
    "#to order the table --> do again line before\n",
    "df_tags=df_tags.sort_values(by=[2],ascending=False)"
   ]
  }
 ],
 "metadata": {
  "kernelspec": {
   "display_name": "Python 3",
   "language": "python",
   "name": "python3"
  },
  "language_info": {
   "codemirror_mode": {
    "name": "ipython",
    "version": 3
   },
   "file_extension": ".py",
   "mimetype": "text/x-python",
   "name": "python",
   "nbconvert_exporter": "python",
   "pygments_lexer": "ipython3",
   "version": "3.7.4"
  }
 },
 "nbformat": 4,
 "nbformat_minor": 2
}
