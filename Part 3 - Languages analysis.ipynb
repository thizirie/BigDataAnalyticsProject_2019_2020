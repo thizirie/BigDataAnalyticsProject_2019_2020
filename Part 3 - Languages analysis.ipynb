{
 "cells": [
  {
   "cell_type": "code",
   "execution_count": 2,
   "metadata": {},
   "outputs": [],
   "source": [
    "%matplotlib inline\n",
    "import numpy as np\n",
    "import pandas as pd \n",
    "import scipy as sp\n",
    "import sklearn as sk # data mining tools\n",
    "import matplotlib.pylab as plt # plotting\n",
    "import seaborn as sns # advanced plotting\n",
    "import ast\n",
    "import collections\n",
    "import re \n",
    "import six\n",
    "from sklearn.preprocessing import MinMaxScaler\n",
    "pd.options.display.max_colwidth = 100\n",
    "pd.options.mode.chained_assignment = None"
   ]
  },
  {
   "cell_type": "code",
   "execution_count": 3,
   "metadata": {},
   "outputs": [
    {
     "name": "stdout",
     "output_type": "stream",
     "text": [
      "<class 'pandas.core.frame.DataFrame'>\n",
      "RangeIndex: 2550 entries, 0 to 2549\n",
      "Data columns (total 47 columns):\n",
      "comments               2550 non-null int64\n",
      "description            2550 non-null object\n",
      "duration               2550 non-null int64\n",
      "event                  2550 non-null object\n",
      "film_date              2550 non-null int64\n",
      "languages              2550 non-null int64\n",
      "main_speaker           2550 non-null object\n",
      "name                   2550 non-null object\n",
      "num_speaker            2550 non-null int64\n",
      "published_date         2550 non-null int64\n",
      "ratings                2550 non-null object\n",
      "related_talks          2550 non-null object\n",
      "speaker_occupation     2550 non-null object\n",
      "tags                   2550 non-null object\n",
      "title                  2550 non-null object\n",
      "url                    2550 non-null object\n",
      "views                  2550 non-null int64\n",
      "Literature             2550 non-null int64\n",
      "Art                    2550 non-null int64\n",
      "Economy_Politics       2550 non-null int64\n",
      "Medicine               2550 non-null int64\n",
      "Academy                2550 non-null int64\n",
      "Engineering_Science    2550 non-null int64\n",
      "Other_Occupations      2550 non-null int64\n",
      "positive_ratings       2550 non-null float64\n",
      "negative_ratings       2550 non-null float64\n",
      "neutral_ratings        2550 non-null int64\n",
      "speaker_trend          2550 non-null float64\n",
      "tags_trend             2550 non-null float64\n",
      "Published_day          2550 non-null object\n",
      "Monday                 2550 non-null int64\n",
      "Tuesday                2550 non-null int64\n",
      "Wednesday              2550 non-null int64\n",
      "Thursday               2550 non-null int64\n",
      "Friday                 2550 non-null int64\n",
      "Saturday               2550 non-null int64\n",
      "Sunday                 2550 non-null int64\n",
      "ratings_count          2550 non-null int64\n",
      "popularity             2550 non-null float64\n",
      "funny_factor           2550 non-null float64\n",
      "popularity_class       2550 non-null int64\n",
      "TEDx                   2550 non-null int64\n",
      "TED                    2550 non-null int64\n",
      "TED_Global             2550 non-null int64\n",
      "TED_Other              2550 non-null int64\n",
      "Non_TED_University     2550 non-null int64\n",
      "Non_TED_Other          2550 non-null int64\n",
      "dtypes: float64(6), int64(30), object(11)\n",
      "memory usage: 936.4+ KB\n"
     ]
    }
   ],
   "source": [
    "df_ted = pd.read_csv('ted_main_dummy_columns.csv')\n",
    "df_ted.info()"
   ]
  },
  {
   "cell_type": "code",
   "execution_count": 17,
   "metadata": {},
   "outputs": [
    {
     "data": {
      "text/plain": [
       "5"
      ]
     },
     "execution_count": 17,
     "metadata": {},
     "output_type": "execute_result"
    }
   ],
   "source": [
    " df_ted.groupby('popularity_class')['TED', 'TEDx', 'TED_Global', 'TED_Other', 'Non_TED_University', 'Non_TED_Other'].sum()\n",
    "df_ted['Non_TED_University'].sum()"
   ]
  },
  {
   "cell_type": "code",
   "execution_count": 104,
   "metadata": {},
   "outputs": [
    {
     "data": {
      "text/plain": [
       "0              TED\n",
       "1              TED\n",
       "2              TED\n",
       "3              TED\n",
       "4              TED\n",
       "5              TED\n",
       "6              TED\n",
       "7              TED\n",
       "8              TED\n",
       "9              TED\n",
       "10             TED\n",
       "11             TED\n",
       "12             TED\n",
       "13             TED\n",
       "14             TED\n",
       "15             TED\n",
       "16             TED\n",
       "17             TED\n",
       "18             TED\n",
       "19      TED_Global\n",
       "20             TED\n",
       "21             TED\n",
       "22             TED\n",
       "23             TED\n",
       "24             TED\n",
       "25      TED_Global\n",
       "26      TED_Global\n",
       "27             TED\n",
       "28             TED\n",
       "29             TED\n",
       "           ...    \n",
       "2520           TED\n",
       "2521          TEDx\n",
       "2522           TED\n",
       "2523          TEDx\n",
       "2524           TED\n",
       "2525          TEDx\n",
       "2526           TED\n",
       "2527          TEDx\n",
       "2528          TEDx\n",
       "2529          TEDx\n",
       "2530           TED\n",
       "2531          TEDx\n",
       "2532           TED\n",
       "2533           TED\n",
       "2534          TEDx\n",
       "2535    TED_Global\n",
       "2536          TEDx\n",
       "2537           TED\n",
       "2538          TEDx\n",
       "2539           TED\n",
       "2540           TED\n",
       "2541          TEDx\n",
       "2542    TED_Global\n",
       "2543           TED\n",
       "2544    TED_Global\n",
       "2545           TED\n",
       "2546           TED\n",
       "2547           TED\n",
       "2548          TEDx\n",
       "2549           TED\n",
       "Name: TED_classes, Length: 2550, dtype: object"
      ]
     },
     "execution_count": 104,
     "metadata": {},
     "output_type": "execute_result"
    }
   ],
   "source": [
    "#plt.bar(gp_events, 'popularity_class')\n",
    "#sns.catplot(y=\"TEDx\", x=\"popularity_class\", kind=\"bar\", data=df_ted);\n",
    "df_ted['TED_classes'] = ''\n",
    "df_ted.loc[(df_ted.TED == 1), 'TED_classes'] = 'TED'\n",
    "df_ted.loc[(df_ted.TEDx == 1), 'TED_classes'] = 'TEDx'\n",
    "df_ted.loc[(df_ted.TED_Global == 1), 'TED_classes'] = 'TED_Global'\n",
    "df_ted.loc[(df_ted.TED_Other == 1), 'TED_classes'] = 'TED_Other'\n",
    "df_ted.loc[(df_ted.Non_TED_University == 1), 'TED_classes'] = 'Non_TED_Other'#'Non_TED_University'\n",
    "df_ted.loc[(df_ted.Non_TED_Other == 1), 'TED_classes'] = 'Non_TED_Other'\n",
    "df_ted['TED_classes']"
   ]
  },
  {
   "cell_type": "code",
   "execution_count": 105,
   "metadata": {},
   "outputs": [
    {
     "data": {
      "image/png": "[encoded data removed]",
      "text/plain": [
       "<Figure size 864x504 with 1 Axes>"
      ]
     },
     "metadata": {
      "needs_background": "light"
     },
     "output_type": "display_data"
    }
   ],
   "source": [
    "#sns.barplot(x=\"TED_classes\", y=\"popularity\", hue=\"popularity_class\", data=df_ted, estimator=lambda x: len(x) / len('TED_classes') * 100);\n",
    "\n",
    "\"\"\"x, y, hue = \"TED_classes\", \"prop\", \"popularity_class\"\n",
    "hue_order = [0, 1, 2]\n",
    "\n",
    "#f, axes = plt.subplots(1, 2)\n",
    "#sns.countplot(x=x, hue=hue, data=df_ted, ax=axes[0])\n",
    "\n",
    "prop_df = (df_ted[x]\n",
    "           .groupby(df_ted[hue])#df_ted[hue]\n",
    "           .value_counts(normalize=True)\n",
    "           .rename(y)\n",
    "           .reset_index())\n",
    "\n",
    "sns.barplot(x=x, y=y, hue=hue, data=prop_df)#, ax=axes[1])\"\"\"\n",
    "\n",
    "\"\"\"props = df_ted.groupby(\"popularity_class\")['TED_classes'].value_counts(normalize=True).unstack()\n",
    "props.plot(kind='bar', stacked='True')\"\"\"\n",
    "\n",
    "temp = df_ted.groupby(['TED_classes', 'popularity_class']).size()\n",
    "temp2 = temp.groupby(level=[0]).apply(lambda g: g*100 / g.sum())\n",
    "\n",
    "myPlot = temp2.unstack(1).plot(kind='bar', stacked = False, figsize=(12,7), grid=True,rot=0)\n",
    "\n",
    "\n",
    "#myPlot = df_ted.groupby(['TED_classes', 'popularity_class']).size().unstack(1).plot(kind='bar', stacked = False, figsize=(9,7), grid=True,rot=0)\n",
    "plt.title('Bar Chart of TED Events types based on the Popularity Class')\n",
    "plt.xlabel('TED Events')\n",
    "plt.ylabel('Count')\n",
    "plt.legend(('0', '1', '2'), loc='best')\n",
    "plt.show()\n"
   ]
  },
  {
   "cell_type": "code",
   "execution_count": null,
   "metadata": {},
   "outputs": [],
   "source": []
  },
  {
   "cell_type": "code",
   "execution_count": null,
   "metadata": {},
   "outputs": [],
   "source": []
  },
  {
   "cell_type": "code",
   "execution_count": 101,
   "metadata": {},
   "outputs": [
    {
     "data": {
      "text/plain": [
       "10.298611115"
      ]
     },
     "execution_count": 101,
     "metadata": {},
     "output_type": "execute_result"
    }
   ],
   "source": [
    "df_ted.speaker_trend.median()"
   ]
  },
  {
   "cell_type": "code",
   "execution_count": null,
   "metadata": {},
   "outputs": [],
   "source": []
  }
 ],
 "metadata": {
  "kernelspec": {
   "display_name": "Python 3",
   "language": "python",
   "name": "python3"
  },
  "language_info": {
   "codemirror_mode": {
    "name": "ipython",
    "version": 3
   },
   "file_extension": ".py",
   "mimetype": "text/x-python",
   "name": "python",
   "nbconvert_exporter": "python",
   "pygments_lexer": "ipython3",
   "version": "3.7.3"
  }
 },
 "nbformat": 4,
 "nbformat_minor": 2
}
